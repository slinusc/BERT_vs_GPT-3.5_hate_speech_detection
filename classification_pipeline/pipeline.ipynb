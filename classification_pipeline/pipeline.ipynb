{
 "cells": [
  {
   "cell_type": "code",
   "execution_count": 9,
   "id": "initial_id",
   "metadata": {
    "collapsed": true,
    "ExecuteTime": {
     "end_time": "2024-03-19T12:50:40.262319Z",
     "start_time": "2024-03-19T12:50:40.254923Z"
    }
   },
   "outputs": [],
   "source": [
    "import pandas as pd\n",
    "import spacy\n",
    "from NLP_workbench import text_preprocessing as tpp"
   ]
  },
  {
   "cell_type": "code",
   "outputs": [
    {
     "data": {
      "text/plain": "                                        comment_text  toxic  severe_toxic  \\\n0  Explanation\\nWhy the edits made under my usern...      0             0   \n1  D'aww! He matches this background colour I'm s...      0             0   \n2  Hey man, I'm really not trying to edit war. It...      0             0   \n3  \"\\nMore\\nI can't make any real suggestions on ...      0             0   \n4  You, sir, are my hero. Any chance you remember...      0             0   \n\n   obscene  threat  insult  identity_hate  \n0        0       0       0              0  \n1        0       0       0              0  \n2        0       0       0              0  \n3        0       0       0              0  \n4        0       0       0              0  ",
      "text/html": "<div>\n<style scoped>\n    .dataframe tbody tr th:only-of-type {\n        vertical-align: middle;\n    }\n\n    .dataframe tbody tr th {\n        vertical-align: top;\n    }\n\n    .dataframe thead th {\n        text-align: right;\n    }\n</style>\n<table border=\"1\" class=\"dataframe\">\n  <thead>\n    <tr style=\"text-align: right;\">\n      <th></th>\n      <th>comment_text</th>\n      <th>toxic</th>\n      <th>severe_toxic</th>\n      <th>obscene</th>\n      <th>threat</th>\n      <th>insult</th>\n      <th>identity_hate</th>\n    </tr>\n  </thead>\n  <tbody>\n    <tr>\n      <th>0</th>\n      <td>Explanation\\nWhy the edits made under my usern...</td>\n      <td>0</td>\n      <td>0</td>\n      <td>0</td>\n      <td>0</td>\n      <td>0</td>\n      <td>0</td>\n    </tr>\n    <tr>\n      <th>1</th>\n      <td>D'aww! He matches this background colour I'm s...</td>\n      <td>0</td>\n      <td>0</td>\n      <td>0</td>\n      <td>0</td>\n      <td>0</td>\n      <td>0</td>\n    </tr>\n    <tr>\n      <th>2</th>\n      <td>Hey man, I'm really not trying to edit war. It...</td>\n      <td>0</td>\n      <td>0</td>\n      <td>0</td>\n      <td>0</td>\n      <td>0</td>\n      <td>0</td>\n    </tr>\n    <tr>\n      <th>3</th>\n      <td>\"\\nMore\\nI can't make any real suggestions on ...</td>\n      <td>0</td>\n      <td>0</td>\n      <td>0</td>\n      <td>0</td>\n      <td>0</td>\n      <td>0</td>\n    </tr>\n    <tr>\n      <th>4</th>\n      <td>You, sir, are my hero. Any chance you remember...</td>\n      <td>0</td>\n      <td>0</td>\n      <td>0</td>\n      <td>0</td>\n      <td>0</td>\n      <td>0</td>\n    </tr>\n  </tbody>\n</table>\n</div>"
     },
     "execution_count": 10,
     "metadata": {},
     "output_type": "execute_result"
    }
   ],
   "source": [
    "data = pd.read_csv('../data/train/train.csv')\n",
    "del data['id']\n",
    "data.head()"
   ],
   "metadata": {
    "collapsed": false,
    "ExecuteTime": {
     "end_time": "2024-03-19T12:50:42.128571Z",
     "start_time": "2024-03-19T12:50:40.354908Z"
    }
   },
   "id": "7ef87dfb48f13278",
   "execution_count": 10
  },
  {
   "cell_type": "code",
   "outputs": [],
   "source": [
    "preproc = tpp.TextPreprocessing()"
   ],
   "metadata": {
    "collapsed": false,
    "ExecuteTime": {
     "end_time": "2024-03-19T12:50:42.561833Z",
     "start_time": "2024-03-19T12:50:42.130579Z"
    }
   },
   "id": "854626936c35f728",
   "execution_count": 11
  },
  {
   "cell_type": "code",
   "outputs": [
    {
     "name": "stdout",
     "output_type": "stream",
     "text": [
      "['explanation', 'edits', 'made', 'username', 'hardcore', 'metallica', 'fan', 'reverted', 'werent', 'vandalism', 'closure', 'gas', 'voted', 'new', 'york', 'doll', 'fac', 'please', 'dont', 'remove', 'template', 'talk', 'page', 'since', 'im', 'retired']\n"
     ]
    }
   ],
   "source": [
    "text = data['comment_text'][0]\n",
    "print(preproc.preprocess_text(text, stemming=False ,check_valid_word=False))"
   ],
   "metadata": {
    "collapsed": false,
    "ExecuteTime": {
     "end_time": "2024-03-19T12:50:44.430329Z",
     "start_time": "2024-03-19T12:50:42.563851Z"
    }
   },
   "id": "b3e7fa29c64366cc",
   "execution_count": 12
  },
  {
   "cell_type": "code",
   "outputs": [
    {
     "name": "stdout",
     "output_type": "stream",
     "text": [
      "261 µs ± 9.34 µs per loop (mean ± std. dev. of 7 runs, 1,000 loops each)\n"
     ]
    }
   ],
   "source": [
    "%timeit preproc.preprocess_text(data['comment_text'][0], check_valid_word=False)"
   ],
   "metadata": {
    "collapsed": false,
    "ExecuteTime": {
     "end_time": "2024-03-19T12:50:46.692550Z",
     "start_time": "2024-03-19T12:50:44.432339Z"
    }
   },
   "id": "2d837012a1ad1847",
   "execution_count": 13
  },
  {
   "cell_type": "code",
   "outputs": [],
   "source": [
    "#data['comment_text'] = data['comment_text'].apply(lambda x: preproc.preprocess_text(x, check_valid_word=False))\n",
    "\n",
    "#data"
   ],
   "metadata": {
    "collapsed": false,
    "ExecuteTime": {
     "end_time": "2024-03-19T12:50:46.699562Z",
     "start_time": "2024-03-19T12:50:46.693562Z"
    }
   },
   "id": "889c942bfdad6a1e",
   "execution_count": 14
  },
  {
   "cell_type": "code",
   "outputs": [],
   "source": [
    "#data = pd.read_csv(\"../data/train/processed_train.csv\")\n",
    "#del data['Unnamed: 0']"
   ],
   "metadata": {
    "collapsed": false,
    "ExecuteTime": {
     "end_time": "2024-03-19T12:50:46.772731Z",
     "start_time": "2024-03-19T12:50:46.700074Z"
    }
   },
   "id": "e0fb1cd0a2535b8c",
   "execution_count": 15
  },
  {
   "cell_type": "code",
   "outputs": [],
   "source": [
    "def fun(x):\n",
    "    if x.sum() != 0:\n",
    "        return 1\n",
    "    return 0\n",
    "\n",
    "rows = ['toxic', 'severe_toxic', 'obscene', 'threat', 'insult', 'identity_hate']\n",
    "\n",
    "data['hate'] = data[rows].apply(lambda x: fun(x), axis=1)\n",
    "\n",
    "for i in rows:\n",
    "    del data[i]"
   ],
   "metadata": {
    "collapsed": false,
    "ExecuteTime": {
     "end_time": "2024-03-19T12:50:50.826540Z",
     "start_time": "2024-03-19T12:50:46.774745Z"
    }
   },
   "id": "59f0c39f17c3ae7e",
   "execution_count": 16
  },
  {
   "cell_type": "code",
   "outputs": [
    {
     "data": {
      "text/plain": "0.8983211235124177"
     },
     "execution_count": 17,
     "metadata": {},
     "output_type": "execute_result"
    }
   ],
   "source": [
    "1 - data['hate'].sum()/len(data)"
   ],
   "metadata": {
    "collapsed": false,
    "ExecuteTime": {
     "end_time": "2024-03-19T12:50:50.835682Z",
     "start_time": "2024-03-19T12:50:50.827556Z"
    }
   },
   "id": "ddcc1dee151a05fe",
   "execution_count": 17
  },
  {
   "cell_type": "code",
   "outputs": [
    {
     "data": {
      "text/plain": "                                             comment_text  hate\n0       Explanation\\nWhy the edits made under my usern...     0\n1       D'aww! He matches this background colour I'm s...     0\n2       Hey man, I'm really not trying to edit war. It...     0\n3       \"\\nMore\\nI can't make any real suggestions on ...     0\n4       You, sir, are my hero. Any chance you remember...     0\n...                                                   ...   ...\n159566  \":::::And for the second time of asking, when ...     0\n159567  You should be ashamed of yourself \\n\\nThat is ...     0\n159568  Spitzer \\n\\nUmm, theres no actual article for ...     0\n159569  And it looks like it was actually you who put ...     0\n159570  \"\\nAnd ... I really don't think you understand...     0\n\n[159571 rows x 2 columns]",
      "text/html": "<div>\n<style scoped>\n    .dataframe tbody tr th:only-of-type {\n        vertical-align: middle;\n    }\n\n    .dataframe tbody tr th {\n        vertical-align: top;\n    }\n\n    .dataframe thead th {\n        text-align: right;\n    }\n</style>\n<table border=\"1\" class=\"dataframe\">\n  <thead>\n    <tr style=\"text-align: right;\">\n      <th></th>\n      <th>comment_text</th>\n      <th>hate</th>\n    </tr>\n  </thead>\n  <tbody>\n    <tr>\n      <th>0</th>\n      <td>Explanation\\nWhy the edits made under my usern...</td>\n      <td>0</td>\n    </tr>\n    <tr>\n      <th>1</th>\n      <td>D'aww! He matches this background colour I'm s...</td>\n      <td>0</td>\n    </tr>\n    <tr>\n      <th>2</th>\n      <td>Hey man, I'm really not trying to edit war. It...</td>\n      <td>0</td>\n    </tr>\n    <tr>\n      <th>3</th>\n      <td>\"\\nMore\\nI can't make any real suggestions on ...</td>\n      <td>0</td>\n    </tr>\n    <tr>\n      <th>4</th>\n      <td>You, sir, are my hero. Any chance you remember...</td>\n      <td>0</td>\n    </tr>\n    <tr>\n      <th>...</th>\n      <td>...</td>\n      <td>...</td>\n    </tr>\n    <tr>\n      <th>159566</th>\n      <td>\":::::And for the second time of asking, when ...</td>\n      <td>0</td>\n    </tr>\n    <tr>\n      <th>159567</th>\n      <td>You should be ashamed of yourself \\n\\nThat is ...</td>\n      <td>0</td>\n    </tr>\n    <tr>\n      <th>159568</th>\n      <td>Spitzer \\n\\nUmm, theres no actual article for ...</td>\n      <td>0</td>\n    </tr>\n    <tr>\n      <th>159569</th>\n      <td>And it looks like it was actually you who put ...</td>\n      <td>0</td>\n    </tr>\n    <tr>\n      <th>159570</th>\n      <td>\"\\nAnd ... I really don't think you understand...</td>\n      <td>0</td>\n    </tr>\n  </tbody>\n</table>\n<p>159571 rows × 2 columns</p>\n</div>"
     },
     "execution_count": 18,
     "metadata": {},
     "output_type": "execute_result"
    }
   ],
   "source": [
    "data"
   ],
   "metadata": {
    "collapsed": false,
    "ExecuteTime": {
     "end_time": "2024-03-19T12:50:50.913802Z",
     "start_time": "2024-03-19T12:50:50.839341Z"
    }
   },
   "id": "3665fa54303204a8",
   "execution_count": 18
  },
  {
   "cell_type": "code",
   "outputs": [],
   "source": [
    "#data.to_csv('../data/train/preprocessed_train_clean.csv', index=False)"
   ],
   "metadata": {
    "collapsed": false,
    "ExecuteTime": {
     "end_time": "2024-03-19T12:50:50.921091Z",
     "start_time": "2024-03-19T12:50:50.916812Z"
    }
   },
   "id": "c4125fee94b96a09",
   "execution_count": 19
  },
  {
   "cell_type": "code",
   "outputs": [],
   "source": [
    "#data = pd.read_csv('../data/train/preprocessed_train_clean.csv')\n",
    "#data['comment_text'].apply(eval)"
   ],
   "metadata": {
    "collapsed": false,
    "ExecuteTime": {
     "end_time": "2024-03-19T12:50:50.931635Z",
     "start_time": "2024-03-19T12:50:50.924175Z"
    }
   },
   "id": "dbc90f194bc81f11",
   "execution_count": 20
  },
  {
   "cell_type": "code",
   "outputs": [],
   "source": [
    "from transformers import BertModel, BertTokenizer\n",
    "from tqdm.auto import tqdm\n",
    "\n",
    "model_name = 'bert-base-uncased'\n",
    "model = BertModel.from_pretrained(model_name)\n",
    "tokenizer = BertTokenizer.from_pretrained(model_name)"
   ],
   "metadata": {
    "collapsed": false,
    "ExecuteTime": {
     "end_time": "2024-03-19T12:50:52.658566Z",
     "start_time": "2024-03-19T12:50:50.933150Z"
    }
   },
   "id": "27b12f134d3d676c",
   "execution_count": 21
  },
  {
   "cell_type": "code",
   "outputs": [
    {
     "name": "stdout",
     "output_type": "stream",
     "text": [
      "1.35 ms ± 178 µs per loop (mean ± std. dev. of 7 runs, 1,000 loops each)\n"
     ]
    }
   ],
   "source": [
    "%timeit data['comment_text'][:1].apply(lambda x: tokenizer.encode_plus(x, add_special_tokens=True, max_length=512, truncation=True, return_tensors='pt'))"
   ],
   "metadata": {
    "collapsed": false,
    "ExecuteTime": {
     "end_time": "2024-03-19T12:51:03.322215Z",
     "start_time": "2024-03-19T12:50:52.659577Z"
    }
   },
   "id": "18d6bbca27ab8a6b",
   "execution_count": 22
  },
  {
   "cell_type": "code",
   "outputs": [],
   "source": [
    "data['comment_text'] = data['comment_text'].apply(lambda x: tokenizer.encode_plus(x, add_special_tokens=True, max_length=512, truncation=True, return_tensors='pt'))"
   ],
   "metadata": {
    "collapsed": false,
    "ExecuteTime": {
     "end_time": "2024-03-19T12:54:44.090068Z",
     "start_time": "2024-03-19T12:51:12.279660Z"
    }
   },
   "id": "1f6a00ea1c755f97",
   "execution_count": 23
  },
  {
   "cell_type": "code",
   "outputs": [],
   "source": [
    "data.to_pickle('../data/train/BERT_tokenized_data.pkl')"
   ],
   "metadata": {
    "collapsed": false,
    "ExecuteTime": {
     "end_time": "2024-03-19T12:55:06.554195Z",
     "start_time": "2024-03-19T12:54:44.091085Z"
    }
   },
   "id": "67507f5c6c9c206",
   "execution_count": 24
  },
  {
   "cell_type": "code",
   "outputs": [],
   "source": [
    "tokenized = pd.read_pickle('../data/train/BERT_tokenized_data.pkl')"
   ],
   "metadata": {
    "collapsed": false,
    "ExecuteTime": {
     "end_time": "2024-03-19T12:55:38.121076Z",
     "start_time": "2024-03-19T12:55:10.209607Z"
    }
   },
   "id": "611eb7408c9a5785",
   "execution_count": 25
  },
  {
   "cell_type": "code",
   "outputs": [],
   "source": [
    "import torch\n",
    "# Extrahieren der 'input_ids' und 'attention_mask' aus dem tokenisierten Output\n",
    "input_ids = torch.cat([item['input_ids'] for item in data], dim=0)\n",
    "attention_mask = torch.cat([item['attention_mask'] for item in data], dim=0)"
   ],
   "metadata": {
    "collapsed": false,
    "is_executing": true
   },
   "id": "25814d0c2105845e",
   "execution_count": null
  },
  {
   "cell_type": "code",
   "outputs": [
    {
     "ename": "NameError",
     "evalue": "name 'input_ids' is not defined",
     "output_type": "error",
     "traceback": [
      "\u001B[1;31m---------------------------------------------------------------------------\u001B[0m",
      "\u001B[1;31mNameError\u001B[0m                                 Traceback (most recent call last)",
      "Cell \u001B[1;32mIn[4], line 8\u001B[0m\n\u001B[0;32m      5\u001B[0m batch_size \u001B[38;5;241m=\u001B[39m \u001B[38;5;241m32\u001B[39m  \u001B[38;5;66;03m# Wählen Sie eine Batch-Größe, die auf Ihre CPU passt\u001B[39;00m\n\u001B[0;32m      7\u001B[0m \u001B[38;5;66;03m# Aufteilen der input_ids und attention_mask in Batches\u001B[39;00m\n\u001B[1;32m----> 8\u001B[0m input_ids_batches \u001B[38;5;241m=\u001B[39m torch\u001B[38;5;241m.\u001B[39msplit(input_ids, batch_size)\n\u001B[0;32m      9\u001B[0m attention_mask_batches \u001B[38;5;241m=\u001B[39m torch\u001B[38;5;241m.\u001B[39msplit(attention_mask, batch_size)\n\u001B[0;32m     11\u001B[0m \u001B[38;5;66;03m# Initialisieren einer Liste, um die Ergebnisse zu speichern\u001B[39;00m\n",
      "\u001B[1;31mNameError\u001B[0m: name 'input_ids' is not defined"
     ]
    }
   ],
   "source": [
    "# Initialisieren des BERT-Modells\n",
    "model = BertModel.from_pretrained('bert-base-uncased')\n",
    "\n",
    "# Führen Sie die Token durch das BERT-Modell und speichern Sie die letzten versteckten Zustände\n",
    "last_hidden_states_batches = []\n",
    "\n",
    "# Verwenden Sie tqdm, um eine Fortschrittsanzeige für die Verarbeitung der Batches anzuzeigen\n",
    "for i in tqdm(range(0, input_ids.size(0), batch_size), desc='Processing'):\n",
    "    batch_input_ids = input_ids[i:i+batch_size]\n",
    "    batch_attention_mask = attention_mask[i:i+batch_size]\n",
    "    \n",
    "    with torch.no_grad():\n",
    "        batch_outputs = model(batch_input_ids, attention_mask=batch_attention_mask)\n",
    "    \n",
    "    batch_last_hidden_states = batch_outputs.last_hidden_state\n",
    "    last_hidden_states_batches.append(batch_last_hidden_states)\n",
    "\n",
    "# Kombinieren der Ergebnisse aus allen Batches in einen einzigen Tensor\n",
    "last_hidden_states = torch.cat(last_hidden_states_batches, dim=0)"
   ],
   "metadata": {
    "collapsed": false,
    "ExecuteTime": {
     "end_time": "2024-03-19T12:46:20.670323Z",
     "start_time": "2024-03-19T12:46:20.219083Z"
    }
   },
   "id": "21827401d69e7cfd",
   "execution_count": 4
  },
  {
   "cell_type": "code",
   "outputs": [],
   "source": [],
   "metadata": {
    "collapsed": false
   },
   "id": "f38b1f589b670cb3"
  }
 ],
 "metadata": {
  "kernelspec": {
   "display_name": "Python 3",
   "language": "python",
   "name": "python3"
  },
  "language_info": {
   "codemirror_mode": {
    "name": "ipython",
    "version": 2
   },
   "file_extension": ".py",
   "mimetype": "text/x-python",
   "name": "python",
   "nbconvert_exporter": "python",
   "pygments_lexer": "ipython2",
   "version": "2.7.6"
  }
 },
 "nbformat": 4,
 "nbformat_minor": 5
}
