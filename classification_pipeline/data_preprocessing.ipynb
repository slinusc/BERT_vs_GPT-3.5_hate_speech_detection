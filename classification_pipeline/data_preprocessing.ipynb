{
 "cells": [
  {
   "cell_type": "code",
   "execution_count": 9,
   "id": "initial_id",
   "metadata": {
    "collapsed": true,
    "ExecuteTime": {
     "end_time": "2024-03-21T13:03:09.622637Z",
     "start_time": "2024-03-21T13:03:09.618527Z"
    }
   },
   "outputs": [],
   "source": [
    "import pandas as pd\n",
    "import re\n",
    "import string\n",
    "from tqdm.auto import tqdm\n",
    "import os\n",
    "import platform"
   ]
  },
  {
   "cell_type": "markdown",
   "source": [
    "## Preprocessing the testset\n",
    "\n",
    "Now we will prepare the testset.\n",
    "\n",
    "1. concatenate the labels to one column\n",
    "2. remove all rows with the label -1, which means the text is not labeled\n",
    "3. clean the text\n",
    "4. save the preprocessed testset"
   ],
   "metadata": {
    "collapsed": false
   },
   "id": "40e96e1e81f8a75d"
  },
  {
   "cell_type": "code",
   "outputs": [
    {
     "data": {
      "text/plain": "                 id                                       comment_text\n0  00001cee341fdb12  Yo bitch Ja Rule is more succesful then you'll...\n1  0000247867823ef7  == From RfC == \\n\\n The title is fine as it is...\n2  00013b17ad220c46  \" \\n\\n == Sources == \\n\\n * Zawe Ashton on Lap...\n3  00017563c3f7919a  :If you have a look back at the source, the in...\n4  00017695ad8997eb          I don't anonymously edit articles at all.",
      "text/html": "<div>\n<style scoped>\n    .dataframe tbody tr th:only-of-type {\n        vertical-align: middle;\n    }\n\n    .dataframe tbody tr th {\n        vertical-align: top;\n    }\n\n    .dataframe thead th {\n        text-align: right;\n    }\n</style>\n<table border=\"1\" class=\"dataframe\">\n  <thead>\n    <tr style=\"text-align: right;\">\n      <th></th>\n      <th>id</th>\n      <th>comment_text</th>\n    </tr>\n  </thead>\n  <tbody>\n    <tr>\n      <th>0</th>\n      <td>00001cee341fdb12</td>\n      <td>Yo bitch Ja Rule is more succesful then you'll...</td>\n    </tr>\n    <tr>\n      <th>1</th>\n      <td>0000247867823ef7</td>\n      <td>== From RfC == \\n\\n The title is fine as it is...</td>\n    </tr>\n    <tr>\n      <th>2</th>\n      <td>00013b17ad220c46</td>\n      <td>\" \\n\\n == Sources == \\n\\n * Zawe Ashton on Lap...</td>\n    </tr>\n    <tr>\n      <th>3</th>\n      <td>00017563c3f7919a</td>\n      <td>:If you have a look back at the source, the in...</td>\n    </tr>\n    <tr>\n      <th>4</th>\n      <td>00017695ad8997eb</td>\n      <td>I don't anonymously edit articles at all.</td>\n    </tr>\n  </tbody>\n</table>\n</div>"
     },
     "execution_count": 19,
     "metadata": {},
     "output_type": "execute_result"
    }
   ],
   "source": [
    "data = pd.read_csv(\"../data/test/test.csv\")\n",
    "data.head()"
   ],
   "metadata": {
    "collapsed": false,
    "ExecuteTime": {
     "end_time": "2024-03-21T13:17:08.437190Z",
     "start_time": "2024-03-21T13:17:07.734284Z"
    }
   },
   "id": "71a310db371e5a14",
   "execution_count": 19
  },
  {
   "cell_type": "code",
   "outputs": [
    {
     "data": {
      "text/plain": "                 id  toxic  severe_toxic  obscene  threat  insult  \\\n0  00001cee341fdb12     -1            -1       -1      -1      -1   \n1  0000247867823ef7     -1            -1       -1      -1      -1   \n2  00013b17ad220c46     -1            -1       -1      -1      -1   \n3  00017563c3f7919a     -1            -1       -1      -1      -1   \n4  00017695ad8997eb     -1            -1       -1      -1      -1   \n\n   identity_hate  \n0             -1  \n1             -1  \n2             -1  \n3             -1  \n4             -1  ",
      "text/html": "<div>\n<style scoped>\n    .dataframe tbody tr th:only-of-type {\n        vertical-align: middle;\n    }\n\n    .dataframe tbody tr th {\n        vertical-align: top;\n    }\n\n    .dataframe thead th {\n        text-align: right;\n    }\n</style>\n<table border=\"1\" class=\"dataframe\">\n  <thead>\n    <tr style=\"text-align: right;\">\n      <th></th>\n      <th>id</th>\n      <th>toxic</th>\n      <th>severe_toxic</th>\n      <th>obscene</th>\n      <th>threat</th>\n      <th>insult</th>\n      <th>identity_hate</th>\n    </tr>\n  </thead>\n  <tbody>\n    <tr>\n      <th>0</th>\n      <td>00001cee341fdb12</td>\n      <td>-1</td>\n      <td>-1</td>\n      <td>-1</td>\n      <td>-1</td>\n      <td>-1</td>\n      <td>-1</td>\n    </tr>\n    <tr>\n      <th>1</th>\n      <td>0000247867823ef7</td>\n      <td>-1</td>\n      <td>-1</td>\n      <td>-1</td>\n      <td>-1</td>\n      <td>-1</td>\n      <td>-1</td>\n    </tr>\n    <tr>\n      <th>2</th>\n      <td>00013b17ad220c46</td>\n      <td>-1</td>\n      <td>-1</td>\n      <td>-1</td>\n      <td>-1</td>\n      <td>-1</td>\n      <td>-1</td>\n    </tr>\n    <tr>\n      <th>3</th>\n      <td>00017563c3f7919a</td>\n      <td>-1</td>\n      <td>-1</td>\n      <td>-1</td>\n      <td>-1</td>\n      <td>-1</td>\n      <td>-1</td>\n    </tr>\n    <tr>\n      <th>4</th>\n      <td>00017695ad8997eb</td>\n      <td>-1</td>\n      <td>-1</td>\n      <td>-1</td>\n      <td>-1</td>\n      <td>-1</td>\n      <td>-1</td>\n    </tr>\n  </tbody>\n</table>\n</div>"
     },
     "execution_count": 20,
     "metadata": {},
     "output_type": "execute_result"
    }
   ],
   "source": [
    "labels = pd.read_csv(\"../data/test_labels/test_labels.csv\")\n",
    "labels.head()"
   ],
   "metadata": {
    "collapsed": false,
    "ExecuteTime": {
     "end_time": "2024-03-21T13:18:04.784515Z",
     "start_time": "2024-03-21T13:18:04.680859Z"
    }
   },
   "id": "53688158b82ac954",
   "execution_count": 20
  },
  {
   "cell_type": "markdown",
   "source": [
    "The value -1 means the text is not labeled. We will concatenate the labels to one column and remove all rows with the label -1. If the sum of the labels is greater than 0, the text is labeled as hate speech. If the sum is 0, the text is not labeled as hate speech."
   ],
   "metadata": {
    "collapsed": false
   },
   "id": "a86e4444af02d5d9"
  },
  {
   "cell_type": "code",
   "outputs": [],
   "source": [
    "def fun(x):\n",
    "    if x.sum() > 0:\n",
    "        return 1\n",
    "    elif x.sum() == 0:\n",
    "        return 0\n",
    "    return -1"
   ],
   "metadata": {
    "collapsed": false,
    "ExecuteTime": {
     "end_time": "2024-03-21T12:42:06.889056Z",
     "start_time": "2024-03-21T12:42:06.886135Z"
    }
   },
   "id": "77107997b6e9539d",
   "execution_count": 2
  },
  {
   "cell_type": "code",
   "outputs": [
    {
     "data": {
      "text/plain": "                 id                                       comment_text  label\n0  00001cee341fdb12  Yo bitch Ja Rule is more succesful then you'll...     -1\n1  0000247867823ef7  == From RfC == \\n\\n The title is fine as it is...     -1\n2  00013b17ad220c46  \" \\n\\n == Sources == \\n\\n * Zawe Ashton on Lap...     -1\n3  00017563c3f7919a  :If you have a look back at the source, the in...     -1\n4  00017695ad8997eb          I don't anonymously edit articles at all.     -1",
      "text/html": "<div>\n<style scoped>\n    .dataframe tbody tr th:only-of-type {\n        vertical-align: middle;\n    }\n\n    .dataframe tbody tr th {\n        vertical-align: top;\n    }\n\n    .dataframe thead th {\n        text-align: right;\n    }\n</style>\n<table border=\"1\" class=\"dataframe\">\n  <thead>\n    <tr style=\"text-align: right;\">\n      <th></th>\n      <th>id</th>\n      <th>comment_text</th>\n      <th>label</th>\n    </tr>\n  </thead>\n  <tbody>\n    <tr>\n      <th>0</th>\n      <td>00001cee341fdb12</td>\n      <td>Yo bitch Ja Rule is more succesful then you'll...</td>\n      <td>-1</td>\n    </tr>\n    <tr>\n      <th>1</th>\n      <td>0000247867823ef7</td>\n      <td>== From RfC == \\n\\n The title is fine as it is...</td>\n      <td>-1</td>\n    </tr>\n    <tr>\n      <th>2</th>\n      <td>00013b17ad220c46</td>\n      <td>\" \\n\\n == Sources == \\n\\n * Zawe Ashton on Lap...</td>\n      <td>-1</td>\n    </tr>\n    <tr>\n      <th>3</th>\n      <td>00017563c3f7919a</td>\n      <td>:If you have a look back at the source, the in...</td>\n      <td>-1</td>\n    </tr>\n    <tr>\n      <th>4</th>\n      <td>00017695ad8997eb</td>\n      <td>I don't anonymously edit articles at all.</td>\n      <td>-1</td>\n    </tr>\n  </tbody>\n</table>\n</div>"
     },
     "execution_count": 3,
     "metadata": {},
     "output_type": "execute_result"
    }
   ],
   "source": [
    "rows = ['toxic', 'severe_toxic', 'obscene', 'threat', 'insult', 'identity_hate']\n",
    "\n",
    "data['label'] = labels[rows].apply(lambda x: fun(x), axis=1)\n",
    "\n",
    "for i in rows:\n",
    "    del labels[i]\n",
    "    \n",
    "data.head()"
   ],
   "metadata": {
    "collapsed": false,
    "ExecuteTime": {
     "end_time": "2024-03-21T12:42:11.899308Z",
     "start_time": "2024-03-21T12:42:06.889056Z"
    }
   },
   "id": "aeba559616ff74db",
   "execution_count": 3
  },
  {
   "cell_type": "markdown",
   "source": [
    "Now we remove all rows with the label -1."
   ],
   "metadata": {
    "collapsed": false
   },
   "id": "57e39a26afb768d3"
  },
  {
   "cell_type": "code",
   "outputs": [
    {
     "data": {
      "text/plain": "                  id                                       comment_text  label\n5   0001ea8717f6de06  Thank you for understanding. I think very high...      0\n7   000247e83dcc1211                   :Dear god this site is horrible.      0\n11  0002f87b16116a7f  \"::: Somebody will invariably try to add Relig...      0\n13  0003e1cccfd5a40a  \" \\n\\n It says it right there that it IS a typ...      0\n14  00059ace3e3e9a53  \" \\n\\n == Before adding a new product to the l...      0",
      "text/html": "<div>\n<style scoped>\n    .dataframe tbody tr th:only-of-type {\n        vertical-align: middle;\n    }\n\n    .dataframe tbody tr th {\n        vertical-align: top;\n    }\n\n    .dataframe thead th {\n        text-align: right;\n    }\n</style>\n<table border=\"1\" class=\"dataframe\">\n  <thead>\n    <tr style=\"text-align: right;\">\n      <th></th>\n      <th>id</th>\n      <th>comment_text</th>\n      <th>label</th>\n    </tr>\n  </thead>\n  <tbody>\n    <tr>\n      <th>5</th>\n      <td>0001ea8717f6de06</td>\n      <td>Thank you for understanding. I think very high...</td>\n      <td>0</td>\n    </tr>\n    <tr>\n      <th>7</th>\n      <td>000247e83dcc1211</td>\n      <td>:Dear god this site is horrible.</td>\n      <td>0</td>\n    </tr>\n    <tr>\n      <th>11</th>\n      <td>0002f87b16116a7f</td>\n      <td>\"::: Somebody will invariably try to add Relig...</td>\n      <td>0</td>\n    </tr>\n    <tr>\n      <th>13</th>\n      <td>0003e1cccfd5a40a</td>\n      <td>\" \\n\\n It says it right there that it IS a typ...</td>\n      <td>0</td>\n    </tr>\n    <tr>\n      <th>14</th>\n      <td>00059ace3e3e9a53</td>\n      <td>\" \\n\\n == Before adding a new product to the l...</td>\n      <td>0</td>\n    </tr>\n  </tbody>\n</table>\n</div>"
     },
     "execution_count": 4,
     "metadata": {},
     "output_type": "execute_result"
    }
   ],
   "source": [
    "data = data[data['label'] != -1]\n",
    "data.head()"
   ],
   "metadata": {
    "collapsed": false,
    "ExecuteTime": {
     "end_time": "2024-03-21T12:42:11.915550Z",
     "start_time": "2024-03-21T12:42:11.901324Z"
    }
   },
   "id": "1f8ae657fae40c83",
   "execution_count": 4
  },
  {
   "cell_type": "markdown",
   "source": [
    "For text cleaning, we only remove special characters, links, and punctuation, because we want to keep the text as close to the original as possible and BERT does not require any further preprocessing. Stopwords are not removed because they can be important for the model to understand the context of the text."
   ],
   "metadata": {
    "collapsed": false
   },
   "id": "a0955e75a873c097"
  },
  {
   "cell_type": "code",
   "outputs": [],
   "source": [
    "def clean_text(text):\n",
    "\n",
    "    text = re.sub('\\[.*?\\]', '', text)\n",
    "    #pattern = [zero or more character]\n",
    "\n",
    "    text = re.sub('https?://\\S+|www\\.\\S+', '', text)\n",
    "    #pattern = removes (http),://, 'and' www.\n",
    "    \n",
    "    text = re.sub('<.*?>+', '', text)\n",
    "    text = re.sub('[%s]' % re.escape(string.punctuation), '', text)\n",
    "    #pattern = any punctionation\n",
    "\n",
    "    text = re.sub('\\n', ' ', text)\n",
    "    #pattern = any new line\n",
    "\n",
    "    text = re.sub('\\w*\\d\\w*', '', text)\n",
    "    #pattern = any from[a-zA-Z0-9_], any from[0-9], any from [a-zA-Z0-9_]\n",
    "\n",
    "    return text"
   ],
   "metadata": {
    "collapsed": false,
    "ExecuteTime": {
     "end_time": "2024-03-21T12:42:11.924240Z",
     "start_time": "2024-03-21T12:42:11.916557Z"
    }
   },
   "id": "c9271a2cebce3a05",
   "execution_count": 5
  },
  {
   "cell_type": "code",
   "outputs": [
    {
     "data": {
      "text/plain": "                  id                                       comment_text  label\n5   0001ea8717f6de06  Thank you for understanding I think very highl...      0\n7   000247e83dcc1211                     Dear god this site is horrible      0\n11  0002f87b16116a7f   Somebody will invariably try to add Religion ...      0\n13  0003e1cccfd5a40a      It says it right there that it IS a type T...      0\n14  00059ace3e3e9a53       Before adding a new product to the list m...      0",
      "text/html": "<div>\n<style scoped>\n    .dataframe tbody tr th:only-of-type {\n        vertical-align: middle;\n    }\n\n    .dataframe tbody tr th {\n        vertical-align: top;\n    }\n\n    .dataframe thead th {\n        text-align: right;\n    }\n</style>\n<table border=\"1\" class=\"dataframe\">\n  <thead>\n    <tr style=\"text-align: right;\">\n      <th></th>\n      <th>id</th>\n      <th>comment_text</th>\n      <th>label</th>\n    </tr>\n  </thead>\n  <tbody>\n    <tr>\n      <th>5</th>\n      <td>0001ea8717f6de06</td>\n      <td>Thank you for understanding I think very highl...</td>\n      <td>0</td>\n    </tr>\n    <tr>\n      <th>7</th>\n      <td>000247e83dcc1211</td>\n      <td>Dear god this site is horrible</td>\n      <td>0</td>\n    </tr>\n    <tr>\n      <th>11</th>\n      <td>0002f87b16116a7f</td>\n      <td>Somebody will invariably try to add Religion ...</td>\n      <td>0</td>\n    </tr>\n    <tr>\n      <th>13</th>\n      <td>0003e1cccfd5a40a</td>\n      <td>It says it right there that it IS a type T...</td>\n      <td>0</td>\n    </tr>\n    <tr>\n      <th>14</th>\n      <td>00059ace3e3e9a53</td>\n      <td>Before adding a new product to the list m...</td>\n      <td>0</td>\n    </tr>\n  </tbody>\n</table>\n</div>"
     },
     "execution_count": 6,
     "metadata": {},
     "output_type": "execute_result"
    }
   ],
   "source": [
    "data['comment_text'] = data['comment_text'].apply(lambda x: clean_text(x))\n",
    "data.head()"
   ],
   "metadata": {
    "collapsed": false,
    "ExecuteTime": {
     "end_time": "2024-03-21T12:42:14.612648Z",
     "start_time": "2024-03-21T12:42:11.926255Z"
    }
   },
   "id": "ebf5b49dc9c4f09d",
   "execution_count": 6
  },
  {
   "cell_type": "markdown",
   "source": [
    "save the preprocessed testset"
   ],
   "metadata": {
    "collapsed": false
   },
   "id": "53bf479664cf8493"
  },
  {
   "cell_type": "code",
   "outputs": [],
   "source": [
    "data.to_csv(\"../data/test/clean_test.csv\", index=False)"
   ],
   "metadata": {
    "collapsed": false,
    "ExecuteTime": {
     "end_time": "2024-03-21T12:42:14.915008Z",
     "start_time": "2024-03-21T12:42:14.613653Z"
    }
   },
   "id": "f51c54cfff5e2003",
   "execution_count": 7
  },
  {
   "cell_type": "markdown",
   "source": [
    "## Preprocessing the trainset for the model\n",
    "\n",
    "Now we will prepare the trainset for the model.\n",
    "\n",
    "1. clean the text\n",
    "2. concatenate the labels to one column\n",
    "3. save the preprocessed trainset"
   ],
   "metadata": {
    "collapsed": false
   },
   "id": "7cd2783445ba569f"
  },
  {
   "cell_type": "markdown",
   "source": [
    "First we will load the trainset and check the operating system to load the data from the correct path."
   ],
   "metadata": {
    "collapsed": false
   },
   "id": "9d8059a8cd12836f"
  },
  {
   "cell_type": "code",
   "outputs": [
    {
     "name": "stdout",
     "output_type": "stream",
     "text": [
      "This is a Windows system. Running Windows-specific code.\n"
     ]
    }
   ],
   "source": [
    "def check_os_and_load_data(filename):\n",
    "    if platform.system() == \"Windows\":\n",
    "        print(\"This is a Windows system. Running Windows-specific code.\")\n",
    "        # Assuming the directory path for Windows is '../data/train/'\n",
    "        path = os.path.join('..', 'data', 'train', filename)\n",
    "        data = pd.read_csv(path, encoding='utf-8')\n",
    "        \n",
    "    elif platform.system() == \"Linux\":\n",
    "        print(\"This is a Linux system. Running Linux-specific code.\")\n",
    "        # Assuming the directory path for Linux is the home directory\n",
    "        path = os.path.join(os.path.expanduser('~'), 'ownCloud - Michael Saxer (zhaw.ch)@drive.switch.ch', '4 Semester', 'NLP', 'workbench', filename)\n",
    "        data = pd.read_csv(path, encoding='utf-8')\n",
    "        \n",
    "    else:\n",
    "        print(\"This is neither a Windows nor a Linux system. You're on your own, sorry.\")\n",
    "        data = None  # Or handle other operating systems as needed\n",
    "        \n",
    "    return data\n",
    "\n",
    "# Pass only the filename, not the path.\n",
    "data = check_os_and_load_data('train.csv')"
   ],
   "metadata": {
    "collapsed": false,
    "ExecuteTime": {
     "end_time": "2024-03-21T13:03:16.573Z",
     "start_time": "2024-03-21T13:03:16.083615Z"
    }
   },
   "id": "e475e7e69b6c1b96",
   "execution_count": 10
  },
  {
   "cell_type": "code",
   "outputs": [
    {
     "data": {
      "text/plain": "                 id                                       comment_text  toxic  \\\n0  0000997932d777bf  Explanation\\nWhy the edits made under my usern...      0   \n1  000103f0d9cfb60f  D'aww! He matches this background colour I'm s...      0   \n2  000113f07ec002fd  Hey man, I'm really not trying to edit war. It...      0   \n3  0001b41b1c6bb37e  \"\\nMore\\nI can't make any real suggestions on ...      0   \n4  0001d958c54c6e35  You, sir, are my hero. Any chance you remember...      0   \n5  00025465d4725e87  \"\\n\\nCongratulations from me as well, use the ...      0   \n6  0002bcb3da6cb337       COCKSUCKER BEFORE YOU PISS AROUND ON MY WORK      1   \n7  00031b1e95af7921  Your vandalism to the Matt Shirvington article...      0   \n\n   severe_toxic  obscene  threat  insult  identity_hate  \n0             0        0       0       0              0  \n1             0        0       0       0              0  \n2             0        0       0       0              0  \n3             0        0       0       0              0  \n4             0        0       0       0              0  \n5             0        0       0       0              0  \n6             1        1       0       1              0  \n7             0        0       0       0              0  ",
      "text/html": "<div>\n<style scoped>\n    .dataframe tbody tr th:only-of-type {\n        vertical-align: middle;\n    }\n\n    .dataframe tbody tr th {\n        vertical-align: top;\n    }\n\n    .dataframe thead th {\n        text-align: right;\n    }\n</style>\n<table border=\"1\" class=\"dataframe\">\n  <thead>\n    <tr style=\"text-align: right;\">\n      <th></th>\n      <th>id</th>\n      <th>comment_text</th>\n      <th>toxic</th>\n      <th>severe_toxic</th>\n      <th>obscene</th>\n      <th>threat</th>\n      <th>insult</th>\n      <th>identity_hate</th>\n    </tr>\n  </thead>\n  <tbody>\n    <tr>\n      <th>0</th>\n      <td>0000997932d777bf</td>\n      <td>Explanation\\nWhy the edits made under my usern...</td>\n      <td>0</td>\n      <td>0</td>\n      <td>0</td>\n      <td>0</td>\n      <td>0</td>\n      <td>0</td>\n    </tr>\n    <tr>\n      <th>1</th>\n      <td>000103f0d9cfb60f</td>\n      <td>D'aww! He matches this background colour I'm s...</td>\n      <td>0</td>\n      <td>0</td>\n      <td>0</td>\n      <td>0</td>\n      <td>0</td>\n      <td>0</td>\n    </tr>\n    <tr>\n      <th>2</th>\n      <td>000113f07ec002fd</td>\n      <td>Hey man, I'm really not trying to edit war. It...</td>\n      <td>0</td>\n      <td>0</td>\n      <td>0</td>\n      <td>0</td>\n      <td>0</td>\n      <td>0</td>\n    </tr>\n    <tr>\n      <th>3</th>\n      <td>0001b41b1c6bb37e</td>\n      <td>\"\\nMore\\nI can't make any real suggestions on ...</td>\n      <td>0</td>\n      <td>0</td>\n      <td>0</td>\n      <td>0</td>\n      <td>0</td>\n      <td>0</td>\n    </tr>\n    <tr>\n      <th>4</th>\n      <td>0001d958c54c6e35</td>\n      <td>You, sir, are my hero. Any chance you remember...</td>\n      <td>0</td>\n      <td>0</td>\n      <td>0</td>\n      <td>0</td>\n      <td>0</td>\n      <td>0</td>\n    </tr>\n    <tr>\n      <th>5</th>\n      <td>00025465d4725e87</td>\n      <td>\"\\n\\nCongratulations from me as well, use the ...</td>\n      <td>0</td>\n      <td>0</td>\n      <td>0</td>\n      <td>0</td>\n      <td>0</td>\n      <td>0</td>\n    </tr>\n    <tr>\n      <th>6</th>\n      <td>0002bcb3da6cb337</td>\n      <td>COCKSUCKER BEFORE YOU PISS AROUND ON MY WORK</td>\n      <td>1</td>\n      <td>1</td>\n      <td>1</td>\n      <td>0</td>\n      <td>1</td>\n      <td>0</td>\n    </tr>\n    <tr>\n      <th>7</th>\n      <td>00031b1e95af7921</td>\n      <td>Your vandalism to the Matt Shirvington article...</td>\n      <td>0</td>\n      <td>0</td>\n      <td>0</td>\n      <td>0</td>\n      <td>0</td>\n      <td>0</td>\n    </tr>\n  </tbody>\n</table>\n</div>"
     },
     "execution_count": 11,
     "metadata": {},
     "output_type": "execute_result"
    }
   ],
   "source": [
    "data.head(8)"
   ],
   "metadata": {
    "collapsed": false,
    "ExecuteTime": {
     "end_time": "2024-03-21T13:03:21.814765Z",
     "start_time": "2024-03-21T13:03:21.806395Z"
    }
   },
   "id": "b8e2cd439b9bd59e",
   "execution_count": 11
  },
  {
   "cell_type": "markdown",
   "source": [
    "Now clean the trainset"
   ],
   "metadata": {
    "collapsed": false
   },
   "id": "383265bb36139e80"
  },
  {
   "cell_type": "code",
   "outputs": [
    {
     "data": {
      "text/plain": "                 id                                       comment_text  toxic  \\\n0  0000997932d777bf  Explanation Why the edits made under my userna...      0   \n1  000103f0d9cfb60f  Daww He matches this background colour Im seem...      0   \n2  000113f07ec002fd  Hey man Im really not trying to edit war Its j...      0   \n3  0001b41b1c6bb37e   More I cant make any real suggestions on impr...      0   \n4  0001d958c54c6e35  You sir are my hero Any chance you remember wh...      0   \n5  00025465d4725e87    Congratulations from me as well use the tool...      0   \n6  0002bcb3da6cb337       COCKSUCKER BEFORE YOU PISS AROUND ON MY WORK      1   \n7  00031b1e95af7921  Your vandalism to the Matt Shirvington article...      0   \n\n   severe_toxic  obscene  threat  insult  identity_hate  \n0             0        0       0       0              0  \n1             0        0       0       0              0  \n2             0        0       0       0              0  \n3             0        0       0       0              0  \n4             0        0       0       0              0  \n5             0        0       0       0              0  \n6             1        1       0       1              0  \n7             0        0       0       0              0  ",
      "text/html": "<div>\n<style scoped>\n    .dataframe tbody tr th:only-of-type {\n        vertical-align: middle;\n    }\n\n    .dataframe tbody tr th {\n        vertical-align: top;\n    }\n\n    .dataframe thead th {\n        text-align: right;\n    }\n</style>\n<table border=\"1\" class=\"dataframe\">\n  <thead>\n    <tr style=\"text-align: right;\">\n      <th></th>\n      <th>id</th>\n      <th>comment_text</th>\n      <th>toxic</th>\n      <th>severe_toxic</th>\n      <th>obscene</th>\n      <th>threat</th>\n      <th>insult</th>\n      <th>identity_hate</th>\n    </tr>\n  </thead>\n  <tbody>\n    <tr>\n      <th>0</th>\n      <td>0000997932d777bf</td>\n      <td>Explanation Why the edits made under my userna...</td>\n      <td>0</td>\n      <td>0</td>\n      <td>0</td>\n      <td>0</td>\n      <td>0</td>\n      <td>0</td>\n    </tr>\n    <tr>\n      <th>1</th>\n      <td>000103f0d9cfb60f</td>\n      <td>Daww He matches this background colour Im seem...</td>\n      <td>0</td>\n      <td>0</td>\n      <td>0</td>\n      <td>0</td>\n      <td>0</td>\n      <td>0</td>\n    </tr>\n    <tr>\n      <th>2</th>\n      <td>000113f07ec002fd</td>\n      <td>Hey man Im really not trying to edit war Its j...</td>\n      <td>0</td>\n      <td>0</td>\n      <td>0</td>\n      <td>0</td>\n      <td>0</td>\n      <td>0</td>\n    </tr>\n    <tr>\n      <th>3</th>\n      <td>0001b41b1c6bb37e</td>\n      <td>More I cant make any real suggestions on impr...</td>\n      <td>0</td>\n      <td>0</td>\n      <td>0</td>\n      <td>0</td>\n      <td>0</td>\n      <td>0</td>\n    </tr>\n    <tr>\n      <th>4</th>\n      <td>0001d958c54c6e35</td>\n      <td>You sir are my hero Any chance you remember wh...</td>\n      <td>0</td>\n      <td>0</td>\n      <td>0</td>\n      <td>0</td>\n      <td>0</td>\n      <td>0</td>\n    </tr>\n    <tr>\n      <th>5</th>\n      <td>00025465d4725e87</td>\n      <td>Congratulations from me as well use the tool...</td>\n      <td>0</td>\n      <td>0</td>\n      <td>0</td>\n      <td>0</td>\n      <td>0</td>\n      <td>0</td>\n    </tr>\n    <tr>\n      <th>6</th>\n      <td>0002bcb3da6cb337</td>\n      <td>COCKSUCKER BEFORE YOU PISS AROUND ON MY WORK</td>\n      <td>1</td>\n      <td>1</td>\n      <td>1</td>\n      <td>0</td>\n      <td>1</td>\n      <td>0</td>\n    </tr>\n    <tr>\n      <th>7</th>\n      <td>00031b1e95af7921</td>\n      <td>Your vandalism to the Matt Shirvington article...</td>\n      <td>0</td>\n      <td>0</td>\n      <td>0</td>\n      <td>0</td>\n      <td>0</td>\n      <td>0</td>\n    </tr>\n  </tbody>\n</table>\n</div>"
     },
     "execution_count": 12,
     "metadata": {},
     "output_type": "execute_result"
    }
   ],
   "source": [
    "data['comment_text'] = data['comment_text'].apply(lambda x: clean_text(x))\n",
    "data.head(8)"
   ],
   "metadata": {
    "collapsed": false,
    "ExecuteTime": {
     "end_time": "2024-03-21T13:03:35.925588Z",
     "start_time": "2024-03-21T13:03:29.240262Z"
    }
   },
   "id": "60ac43d62b46912d",
   "execution_count": 12
  },
  {
   "cell_type": "markdown",
   "source": [
    "Now we will concatenate the labels to one column. If the sum of the labels is greater than 0, the text is labeled as hate speech. If the sum is 0, the text is not labeled as hate speech."
   ],
   "metadata": {
    "collapsed": false
   },
   "id": "8828e03ac49bfdbe"
  },
  {
   "cell_type": "code",
   "outputs": [],
   "source": [
    "def concat(x):\n",
    "    if x.sum() != 0:\n",
    "        return 1\n",
    "    return 0\n",
    "\n",
    "rows = ['toxic', 'severe_toxic', 'obscene', 'threat', 'insult', 'identity_hate']\n",
    "\n",
    "data['hate'] = data[rows].apply(lambda x: concat(x), axis=1)\n",
    "\n",
    "for i in rows:\n",
    "    del data[i]"
   ],
   "metadata": {
    "collapsed": false,
    "ExecuteTime": {
     "end_time": "2024-03-21T13:03:48.144529Z",
     "start_time": "2024-03-21T13:03:45.783404Z"
    }
   },
   "id": "c12b02790d87a2",
   "execution_count": 13
  },
  {
   "cell_type": "code",
   "outputs": [
    {
     "data": {
      "text/plain": "                 id                                       comment_text  hate\n0  0000997932d777bf  Explanation Why the edits made under my userna...     0\n1  000103f0d9cfb60f  Daww He matches this background colour Im seem...     0\n2  000113f07ec002fd  Hey man Im really not trying to edit war Its j...     0\n3  0001b41b1c6bb37e   More I cant make any real suggestions on impr...     0\n4  0001d958c54c6e35  You sir are my hero Any chance you remember wh...     0\n5  00025465d4725e87    Congratulations from me as well use the tool...     0\n6  0002bcb3da6cb337       COCKSUCKER BEFORE YOU PISS AROUND ON MY WORK     1\n7  00031b1e95af7921  Your vandalism to the Matt Shirvington article...     0\n8  00037261f536c51d  Sorry if the word nonsense was offensive to yo...     0\n9  00040093b2687caa  alignment on this subject and which are contra...     0",
      "text/html": "<div>\n<style scoped>\n    .dataframe tbody tr th:only-of-type {\n        vertical-align: middle;\n    }\n\n    .dataframe tbody tr th {\n        vertical-align: top;\n    }\n\n    .dataframe thead th {\n        text-align: right;\n    }\n</style>\n<table border=\"1\" class=\"dataframe\">\n  <thead>\n    <tr style=\"text-align: right;\">\n      <th></th>\n      <th>id</th>\n      <th>comment_text</th>\n      <th>hate</th>\n    </tr>\n  </thead>\n  <tbody>\n    <tr>\n      <th>0</th>\n      <td>0000997932d777bf</td>\n      <td>Explanation Why the edits made under my userna...</td>\n      <td>0</td>\n    </tr>\n    <tr>\n      <th>1</th>\n      <td>000103f0d9cfb60f</td>\n      <td>Daww He matches this background colour Im seem...</td>\n      <td>0</td>\n    </tr>\n    <tr>\n      <th>2</th>\n      <td>000113f07ec002fd</td>\n      <td>Hey man Im really not trying to edit war Its j...</td>\n      <td>0</td>\n    </tr>\n    <tr>\n      <th>3</th>\n      <td>0001b41b1c6bb37e</td>\n      <td>More I cant make any real suggestions on impr...</td>\n      <td>0</td>\n    </tr>\n    <tr>\n      <th>4</th>\n      <td>0001d958c54c6e35</td>\n      <td>You sir are my hero Any chance you remember wh...</td>\n      <td>0</td>\n    </tr>\n    <tr>\n      <th>5</th>\n      <td>00025465d4725e87</td>\n      <td>Congratulations from me as well use the tool...</td>\n      <td>0</td>\n    </tr>\n    <tr>\n      <th>6</th>\n      <td>0002bcb3da6cb337</td>\n      <td>COCKSUCKER BEFORE YOU PISS AROUND ON MY WORK</td>\n      <td>1</td>\n    </tr>\n    <tr>\n      <th>7</th>\n      <td>00031b1e95af7921</td>\n      <td>Your vandalism to the Matt Shirvington article...</td>\n      <td>0</td>\n    </tr>\n    <tr>\n      <th>8</th>\n      <td>00037261f536c51d</td>\n      <td>Sorry if the word nonsense was offensive to yo...</td>\n      <td>0</td>\n    </tr>\n    <tr>\n      <th>9</th>\n      <td>00040093b2687caa</td>\n      <td>alignment on this subject and which are contra...</td>\n      <td>0</td>\n    </tr>\n  </tbody>\n</table>\n</div>"
     },
     "execution_count": 14,
     "metadata": {},
     "output_type": "execute_result"
    }
   ],
   "source": [
    "data.head(10)"
   ],
   "metadata": {
    "collapsed": false,
    "ExecuteTime": {
     "end_time": "2024-03-21T13:03:50.166005Z",
     "start_time": "2024-03-21T13:03:50.159176Z"
    }
   },
   "id": "556ebd6f39707de3",
   "execution_count": 14
  },
  {
   "cell_type": "markdown",
   "source": [
    "save the preprocessed trainset"
   ],
   "metadata": {
    "collapsed": false
   },
   "id": "80c90db6b07fa150"
  },
  {
   "cell_type": "code",
   "outputs": [],
   "source": [
    "data.to_csv(\"../data/train/clean_train.csv\", index=False)"
   ],
   "metadata": {
    "collapsed": false,
    "ExecuteTime": {
     "end_time": "2024-03-21T13:04:00.317205Z",
     "start_time": "2024-03-21T13:04:00.313743Z"
    }
   },
   "id": "1d0ed40e8d1ed6d3",
   "execution_count": 15
  },
  {
   "cell_type": "markdown",
   "source": [
    "# Tokenization\n",
    "\n",
    "Now we will tokenize the trainset. We will use the BERT tokenizer to tokenize the text. The tokenization will be done in the following way:\n",
    "\n",
    "1. Tokenize the text\n",
    "2. Add special tokens\n",
    "3. Set the max length to 512\n",
    "4. Truncate the text if it is longer than 512 tokens\n",
    "5. Pad the text if it is shorter than 512 tokens\n",
    "6. Return the tokenized text as PyTorch tensors\n",
    "7. Save the tokenized trainset as a pickle file"
   ],
   "metadata": {
    "collapsed": false
   },
   "id": "ef6ca4c20e37a0de"
  },
  {
   "cell_type": "code",
   "outputs": [],
   "source": [
    "from transformers import BertTokenizer\n",
    "model_name = 'bert-base-uncased'\n",
    "tokenizer = BertTokenizer.from_pretrained(model_name)"
   ],
   "metadata": {
    "collapsed": false,
    "ExecuteTime": {
     "end_time": "2024-03-21T13:04:08.776013Z",
     "start_time": "2024-03-21T13:04:07.208481Z"
    }
   },
   "id": "55260584bea699b0",
   "execution_count": 16
  },
  {
   "cell_type": "code",
   "outputs": [],
   "source": [
    "def tokenize_data(text):\n",
    "    try:\n",
    "        # print(\" do not forget to save this settings in the model info file before saving the hidden states!!!\")\n",
    "        return tokenizer.encode_plus(\n",
    "            text,\n",
    "            add_special_tokens=True,\n",
    "            max_length=512,\n",
    "            truncation=True,\n",
    "            padding='max_length',\n",
    "            return_tensors='pt'\n",
    "        )\n",
    "    except Exception as e:\n",
    "        print(f\"Error tokenizing text: {e}\")\n",
    "        return None"
   ],
   "metadata": {
    "collapsed": false,
    "ExecuteTime": {
     "end_time": "2024-03-21T13:04:12.418024Z",
     "start_time": "2024-03-21T13:04:12.411677Z"
    }
   },
   "id": "a119a878197b10b3",
   "execution_count": 17
  },
  {
   "cell_type": "markdown",
   "source": [
    "apply the tokenization to the trainset and save the tokenized trainset"
   ],
   "metadata": {
    "collapsed": false
   },
   "id": "131a4157fe9ff57c"
  },
  {
   "cell_type": "code",
   "outputs": [
    {
     "data": {
      "text/plain": "Tokenizing data:   0%|          | 0/159571 [00:00<?, ?it/s]",
      "application/vnd.jupyter.widget-view+json": {
       "version_major": 2,
       "version_minor": 0,
       "model_id": "b55f686456d946948940351b671c4168"
      }
     },
     "metadata": {},
     "output_type": "display_data"
    }
   ],
   "source": [
    "# This could take a while depending on the size of your dataset\n",
    "tqdm.pandas(desc=\"Tokenizing data\")\n",
    "data['tokenized'] = data['comment_text'].progress_apply(tokenize_data)\n",
    "\n",
    "# save dataframe as pickle\n",
    "data.to_pickle('../data/train/tokenized_train_data.pkl')"
   ],
   "metadata": {
    "collapsed": false,
    "ExecuteTime": {
     "end_time": "2024-03-21T13:07:42.053875Z",
     "start_time": "2024-03-21T13:04:21.956640Z"
    }
   },
   "id": "29a3d4cd89501285",
   "execution_count": 18
  }
 ],
 "metadata": {
  "kernelspec": {
   "display_name": "Python 3",
   "language": "python",
   "name": "python3"
  },
  "language_info": {
   "codemirror_mode": {
    "name": "ipython",
    "version": 2
   },
   "file_extension": ".py",
   "mimetype": "text/x-python",
   "name": "python",
   "nbconvert_exporter": "python",
   "pygments_lexer": "ipython2",
   "version": "2.7.6"
  }
 },
 "nbformat": 4,
 "nbformat_minor": 5
}
