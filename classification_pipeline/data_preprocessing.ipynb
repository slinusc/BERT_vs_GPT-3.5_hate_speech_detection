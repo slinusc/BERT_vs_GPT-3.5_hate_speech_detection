{
 "cells": [
  {
   "cell_type": "code",
   "execution_count": 1,
   "id": "initial_id",
   "metadata": {
    "collapsed": true,
    "ExecuteTime": {
     "end_time": "2024-03-21T12:42:06.885121Z",
     "start_time": "2024-03-21T12:42:06.330915Z"
    }
   },
   "outputs": [],
   "source": [
    "import pandas as pd\n",
    "import re\n",
    "import string\n",
    "from tqdm.auto import tqdm"
   ]
  },
  {
   "cell_type": "markdown",
   "source": [
    "## Preprocessing the testset\n",
    "\n",
    "Now we will prepare the testset.\n",
    "\n",
    "1. concatenate the labels to one column\n",
    "2. remove all rows with the label -1, which means the text is not labeled\n",
    "3. clean the text\n",
    "4. save the preprocessed testset"
   ],
   "metadata": {
    "collapsed": false
   },
   "id": "40e96e1e81f8a75d"
  },
  {
   "cell_type": "code",
   "outputs": [],
   "source": [
    "def fun(x):\n",
    "    if x.sum() > 0:\n",
    "        return 1\n",
    "    elif x.sum() == 0:\n",
    "        return 0\n",
    "    return -1"
   ],
   "metadata": {
    "collapsed": false,
    "ExecuteTime": {
     "end_time": "2024-03-21T12:42:06.889056Z",
     "start_time": "2024-03-21T12:42:06.886135Z"
    }
   },
   "id": "77107997b6e9539d",
   "execution_count": 2
  },
  {
   "cell_type": "code",
   "outputs": [
    {
     "data": {
      "text/plain": "                 id                                       comment_text  label\n0  00001cee341fdb12  Yo bitch Ja Rule is more succesful then you'll...     -1\n1  0000247867823ef7  == From RfC == \\n\\n The title is fine as it is...     -1\n2  00013b17ad220c46  \" \\n\\n == Sources == \\n\\n * Zawe Ashton on Lap...     -1\n3  00017563c3f7919a  :If you have a look back at the source, the in...     -1\n4  00017695ad8997eb          I don't anonymously edit articles at all.     -1",
      "text/html": "<div>\n<style scoped>\n    .dataframe tbody tr th:only-of-type {\n        vertical-align: middle;\n    }\n\n    .dataframe tbody tr th {\n        vertical-align: top;\n    }\n\n    .dataframe thead th {\n        text-align: right;\n    }\n</style>\n<table border=\"1\" class=\"dataframe\">\n  <thead>\n    <tr style=\"text-align: right;\">\n      <th></th>\n      <th>id</th>\n      <th>comment_text</th>\n      <th>label</th>\n    </tr>\n  </thead>\n  <tbody>\n    <tr>\n      <th>0</th>\n      <td>00001cee341fdb12</td>\n      <td>Yo bitch Ja Rule is more succesful then you'll...</td>\n      <td>-1</td>\n    </tr>\n    <tr>\n      <th>1</th>\n      <td>0000247867823ef7</td>\n      <td>== From RfC == \\n\\n The title is fine as it is...</td>\n      <td>-1</td>\n    </tr>\n    <tr>\n      <th>2</th>\n      <td>00013b17ad220c46</td>\n      <td>\" \\n\\n == Sources == \\n\\n * Zawe Ashton on Lap...</td>\n      <td>-1</td>\n    </tr>\n    <tr>\n      <th>3</th>\n      <td>00017563c3f7919a</td>\n      <td>:If you have a look back at the source, the in...</td>\n      <td>-1</td>\n    </tr>\n    <tr>\n      <th>4</th>\n      <td>00017695ad8997eb</td>\n      <td>I don't anonymously edit articles at all.</td>\n      <td>-1</td>\n    </tr>\n  </tbody>\n</table>\n</div>"
     },
     "execution_count": 3,
     "metadata": {},
     "output_type": "execute_result"
    }
   ],
   "source": [
    "data = pd.read_csv(\"../data/test/test.csv\")\n",
    "labels = pd.read_csv(\"../data/test_labels/test_labels.csv\")\n",
    "\n",
    "rows = ['toxic', 'severe_toxic', 'obscene', 'threat', 'insult', 'identity_hate']\n",
    "\n",
    "data['label'] = labels[rows].apply(lambda x: fun(x), axis=1)\n",
    "\n",
    "for i in rows:\n",
    "    del labels[i]\n",
    "    \n",
    "data.head()"
   ],
   "metadata": {
    "collapsed": false,
    "ExecuteTime": {
     "end_time": "2024-03-21T12:42:11.899308Z",
     "start_time": "2024-03-21T12:42:06.889056Z"
    }
   },
   "id": "aeba559616ff74db",
   "execution_count": 3
  },
  {
   "cell_type": "code",
   "outputs": [
    {
     "data": {
      "text/plain": "                  id                                       comment_text  label\n5   0001ea8717f6de06  Thank you for understanding. I think very high...      0\n7   000247e83dcc1211                   :Dear god this site is horrible.      0\n11  0002f87b16116a7f  \"::: Somebody will invariably try to add Relig...      0\n13  0003e1cccfd5a40a  \" \\n\\n It says it right there that it IS a typ...      0\n14  00059ace3e3e9a53  \" \\n\\n == Before adding a new product to the l...      0",
      "text/html": "<div>\n<style scoped>\n    .dataframe tbody tr th:only-of-type {\n        vertical-align: middle;\n    }\n\n    .dataframe tbody tr th {\n        vertical-align: top;\n    }\n\n    .dataframe thead th {\n        text-align: right;\n    }\n</style>\n<table border=\"1\" class=\"dataframe\">\n  <thead>\n    <tr style=\"text-align: right;\">\n      <th></th>\n      <th>id</th>\n      <th>comment_text</th>\n      <th>label</th>\n    </tr>\n  </thead>\n  <tbody>\n    <tr>\n      <th>5</th>\n      <td>0001ea8717f6de06</td>\n      <td>Thank you for understanding. I think very high...</td>\n      <td>0</td>\n    </tr>\n    <tr>\n      <th>7</th>\n      <td>000247e83dcc1211</td>\n      <td>:Dear god this site is horrible.</td>\n      <td>0</td>\n    </tr>\n    <tr>\n      <th>11</th>\n      <td>0002f87b16116a7f</td>\n      <td>\"::: Somebody will invariably try to add Relig...</td>\n      <td>0</td>\n    </tr>\n    <tr>\n      <th>13</th>\n      <td>0003e1cccfd5a40a</td>\n      <td>\" \\n\\n It says it right there that it IS a typ...</td>\n      <td>0</td>\n    </tr>\n    <tr>\n      <th>14</th>\n      <td>00059ace3e3e9a53</td>\n      <td>\" \\n\\n == Before adding a new product to the l...</td>\n      <td>0</td>\n    </tr>\n  </tbody>\n</table>\n</div>"
     },
     "execution_count": 4,
     "metadata": {},
     "output_type": "execute_result"
    }
   ],
   "source": [
    "data = data[data['label'] != -1]\n",
    "data.head()"
   ],
   "metadata": {
    "collapsed": false,
    "ExecuteTime": {
     "end_time": "2024-03-21T12:42:11.915550Z",
     "start_time": "2024-03-21T12:42:11.901324Z"
    }
   },
   "id": "1f8ae657fae40c83",
   "execution_count": 4
  },
  {
   "cell_type": "code",
   "outputs": [],
   "source": [
    "def clean_text(text):\n",
    "\n",
    "    text = re.sub('\\[.*?\\]', '', text)\n",
    "    #pattern = [zero or more character]\n",
    "\n",
    "    text = re.sub('https?://\\S+|www\\.\\S+', '', text)\n",
    "    #pattern = removes (http),://, 'and' www.\n",
    "    \n",
    "    text = re.sub('<.*?>+', '', text)\n",
    "    text = re.sub('[%s]' % re.escape(string.punctuation), '', text)\n",
    "    #pattern = any punctionation\n",
    "\n",
    "    text = re.sub('\\n', ' ', text)\n",
    "    #pattern = any new line\n",
    "\n",
    "    text = re.sub('\\w*\\d\\w*', '', text)\n",
    "    #pattern = any from[a-zA-Z0-9_], any from[0-9], any from [a-zA-Z0-9_]\n",
    "\n",
    "    return text"
   ],
   "metadata": {
    "collapsed": false,
    "ExecuteTime": {
     "end_time": "2024-03-21T12:42:11.924240Z",
     "start_time": "2024-03-21T12:42:11.916557Z"
    }
   },
   "id": "c9271a2cebce3a05",
   "execution_count": 5
  },
  {
   "cell_type": "code",
   "outputs": [
    {
     "data": {
      "text/plain": "                  id                                       comment_text  label\n5   0001ea8717f6de06  Thank you for understanding I think very highl...      0\n7   000247e83dcc1211                     Dear god this site is horrible      0\n11  0002f87b16116a7f   Somebody will invariably try to add Religion ...      0\n13  0003e1cccfd5a40a      It says it right there that it IS a type T...      0\n14  00059ace3e3e9a53       Before adding a new product to the list m...      0",
      "text/html": "<div>\n<style scoped>\n    .dataframe tbody tr th:only-of-type {\n        vertical-align: middle;\n    }\n\n    .dataframe tbody tr th {\n        vertical-align: top;\n    }\n\n    .dataframe thead th {\n        text-align: right;\n    }\n</style>\n<table border=\"1\" class=\"dataframe\">\n  <thead>\n    <tr style=\"text-align: right;\">\n      <th></th>\n      <th>id</th>\n      <th>comment_text</th>\n      <th>label</th>\n    </tr>\n  </thead>\n  <tbody>\n    <tr>\n      <th>5</th>\n      <td>0001ea8717f6de06</td>\n      <td>Thank you for understanding I think very highl...</td>\n      <td>0</td>\n    </tr>\n    <tr>\n      <th>7</th>\n      <td>000247e83dcc1211</td>\n      <td>Dear god this site is horrible</td>\n      <td>0</td>\n    </tr>\n    <tr>\n      <th>11</th>\n      <td>0002f87b16116a7f</td>\n      <td>Somebody will invariably try to add Religion ...</td>\n      <td>0</td>\n    </tr>\n    <tr>\n      <th>13</th>\n      <td>0003e1cccfd5a40a</td>\n      <td>It says it right there that it IS a type T...</td>\n      <td>0</td>\n    </tr>\n    <tr>\n      <th>14</th>\n      <td>00059ace3e3e9a53</td>\n      <td>Before adding a new product to the list m...</td>\n      <td>0</td>\n    </tr>\n  </tbody>\n</table>\n</div>"
     },
     "execution_count": 6,
     "metadata": {},
     "output_type": "execute_result"
    }
   ],
   "source": [
    "data['comment_text'] = data['comment_text'].apply(lambda x: clean_text(x))\n",
    "data.head()"
   ],
   "metadata": {
    "collapsed": false,
    "ExecuteTime": {
     "end_time": "2024-03-21T12:42:14.612648Z",
     "start_time": "2024-03-21T12:42:11.926255Z"
    }
   },
   "id": "ebf5b49dc9c4f09d",
   "execution_count": 6
  },
  {
   "cell_type": "code",
   "outputs": [],
   "source": [
    "data.to_csv(\"../data/test/clean_test.csv\", index=False)"
   ],
   "metadata": {
    "collapsed": false,
    "ExecuteTime": {
     "end_time": "2024-03-21T12:42:14.915008Z",
     "start_time": "2024-03-21T12:42:14.613653Z"
    }
   },
   "id": "f51c54cfff5e2003",
   "execution_count": 7
  }
 ],
 "metadata": {
  "kernelspec": {
   "display_name": "Python 3",
   "language": "python",
   "name": "python3"
  },
  "language_info": {
   "codemirror_mode": {
    "name": "ipython",
    "version": 2
   },
   "file_extension": ".py",
   "mimetype": "text/x-python",
   "name": "python",
   "nbconvert_exporter": "python",
   "pygments_lexer": "ipython2",
   "version": "2.7.6"
  }
 },
 "nbformat": 4,
 "nbformat_minor": 5
}
