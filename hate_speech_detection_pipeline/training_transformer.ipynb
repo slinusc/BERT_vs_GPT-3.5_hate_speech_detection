{
 "cells": [
  {
   "cell_type": "markdown",
   "metadata": {
    "id": "UPz0OQUUUiXC"
   },
   "source": [
    "## Import necessary library"
   ]
  },
  {
   "cell_type": "code",
   "execution_count": 9,
   "metadata": {
    "id": "f_EyP7-qUiXE",
    "executionInfo": {
     "status": "ok",
     "timestamp": 1711031826520,
     "user_tz": -60,
     "elapsed": 6797,
     "user": {
      "displayName": "Linus Stuhlmann",
      "userId": "07279173608860907824"
     }
    },
    "ExecuteTime": {
     "end_time": "2024-03-21T15:51:03.773724Z",
     "start_time": "2024-03-21T15:51:03.767862Z"
    }
   },
   "outputs": [],
   "source": [
    "import pandas as pd\n",
    "import matplotlib.pyplot as plt\n",
    "import os\n",
    "from transformers import BertModel\n",
    "import torch\n",
    "from torch.utils.data import DataLoader, TensorDataset, random_split\n",
    "from transformers import BertForSequenceClassification\n",
    "from torch.optim import AdamW\n",
    "from transformers import get_linear_schedule_with_warmup\n",
    "from sklearn.metrics import f1_score\n",
    "import numpy as np\n",
    "from tqdm import tqdm\n",
    "\n",
    "os.environ['HF_TOKEN'] = os.getenv('HF_TOKEN', None)"
   ]
  },
  {
   "cell_type": "markdown",
   "source": [
    "If working on a local machine:"
   ],
   "metadata": {
    "collapsed": false
   }
  },
  {
   "cell_type": "code",
   "outputs": [],
   "source": [
    "if os.path.exists('data/train/tokenized_train_data.pkl'):\n",
    "    data = pd.read_pickle('data/train/tokenized_train_data.pkl')\n",
    "else:\n",
    "    print(\"File not found.\")"
   ],
   "metadata": {
    "colab": {
     "base_uri": "https://localhost:8080/"
    },
    "id": "pKWZRnQOUiXF",
    "executionInfo": {
     "status": "ok",
     "timestamp": 1711029837139,
     "user_tz": -60,
     "elapsed": 494,
     "user": {
      "displayName": "Linus Stuhlmann",
      "userId": "07279173608860907824"
     }
    },
    "outputId": "57a068e4-22bd-467b-be09-a91ab41ec4f1",
    "ExecuteTime": {
     "end_time": "2024-03-21T15:52:01.882509Z",
     "start_time": "2024-03-21T15:51:04.968434Z"
    }
   },
   "execution_count": 10
  },
  {
   "cell_type": "markdown",
   "source": [
    "If working in Google Colab:"
   ],
   "metadata": {
    "collapsed": false,
    "id": "UXqVC-W-UiXF"
   }
  },
  {
   "cell_type": "code",
   "outputs": [
    {
     "output_type": "stream",
     "name": "stdout",
     "text": [
      "Mounted at /content/drive\n"
     ]
    }
   ],
   "source": [
    "from google.colab import drive\n",
    "drive.mount('/content/drive')\n",
    "base_path = '/content/drive/My Drive/'\n",
    "data_path = os.path.join(base_path, 'NLP/data/train/tokenized_train_data.pkl')\n",
    "\n",
    "if os.path.exists(data_path):\n",
    "    data = pd.read_pickle(data_path)\n",
    "else:\n",
    "    print(\"File not found. Please ensure the file path is correct and run the previous cell to create the file.\")"
   ],
   "metadata": {
    "colab": {
     "base_uri": "https://localhost:8080/"
    },
    "id": "sVwHfJkWUiXF",
    "executionInfo": {
     "status": "ok",
     "timestamp": 1711031903547,
     "user_tz": -60,
     "elapsed": 71885,
     "user": {
      "displayName": "Linus Stuhlmann",
      "userId": "07279173608860907824"
     }
    },
    "outputId": "898cf4bf-0f2c-49da-f1d7-460a3d13020a"
   },
   "execution_count": 2
  },
  {
   "cell_type": "markdown",
   "source": [
    "## Initalize BERT Model"
   ],
   "metadata": {
    "id": "FstuoYooUiXG"
   }
  },
  {
   "cell_type": "code",
   "outputs": [],
   "source": [
    "model_name = 'bert-base-uncased'\n",
    "model = BertModel.from_pretrained(model_name)"
   ],
   "metadata": {
    "id": "umptweb4UiXG",
    "colab": {
     "base_uri": "https://localhost:8080/",
     "height": 205,
     "referenced_widgets": [
      "b902067172694b19b6729d27e88332cc",
      "72bdaee8de4b40f39966b0566b85ae98",
      "4826d67a35e94b438373164bfa96ba90",
      "97504467dc794f9f803d8a2d1bb98e4a",
      "1e3ba41da39a48e4ad5b3c1fb8cbbd28",
      "96c397ca2f914a19a7d65d037b3af8dc",
      "40a523fd0c444d9e847b8b97a328d246",
      "90495a893d4e4fb4864629c00073e5cc",
      "68a9ef24452b419383cf0b60483b6adc",
      "f204d39a2da246c6adde0da171420def",
      "e45291ee62b14362b688f79818f802ff",
      "019d280de0fe4a2d915639e9ddfa333b",
      "9123f8b9a56742c1a2661102ddaa9e25",
      "186fd52015714c4b82130c4a5138a480",
      "08086ee40492438c84b22da0f8bf7b11",
      "04df58e0311c43b5be6f6785a310e39b",
      "f6deaaafd34f4608949a0fbf36be802a",
      "6c6be1f9fcf243ce9e249af98fe9d62d",
      "ff926a3b29a64d228aedc01c36df55ce",
      "12329f443c284fc4bafa2fa3c6fb5f48",
      "74b806dfd3704a70b5cea267800b7044",
      "914b273f2e1a4028bba5e7b6feae9b18"
     ]
    },
    "executionInfo": {
     "status": "ok",
     "timestamp": 1711031907601,
     "user_tz": -60,
     "elapsed": 4057,
     "user": {
      "displayName": "Linus Stuhlmann",
      "userId": "07279173608860907824"
     }
    },
    "outputId": "2dfa9a67-cc80-48fe-c841-a8f579af798d",
    "ExecuteTime": {
     "end_time": "2024-03-21T15:49:05.514615Z",
     "start_time": "2024-03-21T15:49:04.358709Z"
    }
   },
   "execution_count": 8
  },
  {
   "cell_type": "markdown",
   "source": [
    "## Train the model"
   ],
   "metadata": {
    "collapsed": false,
    "id": "s31lTiclUiXG"
   }
  },
  {
   "cell_type": "code",
   "execution_count": 4,
   "metadata": {
    "ExecuteTime": {
     "end_time": "2024-03-21T13:48:47.798275Z",
     "start_time": "2024-03-21T13:48:47.600170Z"
    },
    "id": "Mvkl66FXUiXG",
    "executionInfo": {
     "status": "ok",
     "timestamp": 1711031907601,
     "user_tz": -60,
     "elapsed": 5,
     "user": {
      "displayName": "Linus Stuhlmann",
      "userId": "07279173608860907824"
     }
    }
   },
   "outputs": [],
   "source": [
    "# First, we need to drop any rows that failed to tokenize\n",
    "data = data.dropna(subset=['tokenized'])\n",
    "subset_train = data.iloc[:5000]\n",
    "\n",
    "# Extract 'input_ids' and 'attention_mask' and create tensors\n",
    "input_ids = torch.cat(subset_train['tokenized'].apply(lambda x: x['input_ids']).tolist())\n",
    "attention_mask = torch.cat(subset_train['tokenized'].apply(lambda x: x['attention_mask']).tolist())\n",
    "labels = torch.tensor(subset_train['hate'].values, dtype=torch.long)"
   ]
  },
  {
   "cell_type": "markdown",
   "source": [
    "## Check if CUDA is available, otherwise use CPU"
   ],
   "metadata": {
    "collapsed": false,
    "id": "BEVIpKqPUiXH"
   }
  },
  {
   "cell_type": "code",
   "outputs": [
    {
     "output_type": "stream",
     "name": "stdout",
     "text": [
      "Using cuda for training\n"
     ]
    }
   ],
   "source": [
    "# Check if CUDA is available, otherwise use CPU\n",
    "device = torch.device(\"cuda\" if torch.cuda.is_available() else \"cpu\")\n",
    "print(f\"Using {device} for training\")"
   ],
   "metadata": {
    "ExecuteTime": {
     "end_time": "2024-03-21T13:48:50.600905Z",
     "start_time": "2024-03-21T13:48:50.596401Z"
    },
    "colab": {
     "base_uri": "https://localhost:8080/"
    },
    "id": "XoAm--8ZUiXH",
    "executionInfo": {
     "status": "ok",
     "timestamp": 1711031907601,
     "user_tz": -60,
     "elapsed": 4,
     "user": {
      "displayName": "Linus Stuhlmann",
      "userId": "07279173608860907824"
     }
    },
    "outputId": "2942b674-e665-42f6-a2a5-b5dbf3fed256"
   },
   "execution_count": 5
  },
  {
   "cell_type": "markdown",
   "source": [
    "## Create a DataLoader for the training and validation sets"
   ],
   "metadata": {
    "collapsed": false,
    "id": "9l3-XSzaUiXH"
   }
  },
  {
   "cell_type": "code",
   "outputs": [],
   "source": [
    "\n",
    "# Assuming `input_ids`, `attention_mask`, and `labels` are your dataset's features\n",
    "# and labels, respectively, and are all PyTorch tensors.\n",
    "dataset = TensorDataset(input_ids, attention_mask, labels)\n",
    "\n",
    "# Split the dataset into training and validation sets\n",
    "train_size = int(0.9 * len(dataset))\n",
    "val_size = len(dataset) - train_size\n",
    "train_dataset, val_dataset = random_split(dataset, [train_size, val_size])\n",
    "\n",
    "train_loader = DataLoader(train_dataset, batch_size=16, shuffle=True)\n",
    "val_loader = DataLoader(val_dataset, batch_size=16)"
   ],
   "metadata": {
    "ExecuteTime": {
     "end_time": "2024-03-21T13:48:57.444297Z",
     "start_time": "2024-03-21T13:48:57.438683Z"
    },
    "id": "3Ogtd9XTUiXH",
    "executionInfo": {
     "status": "ok",
     "timestamp": 1711031907601,
     "user_tz": -60,
     "elapsed": 3,
     "user": {
      "displayName": "Linus Stuhlmann",
      "userId": "07279173608860907824"
     }
    }
   },
   "execution_count": 6
  },
  {
   "cell_type": "markdown",
   "source": [
    "## Define the model and optimizer"
   ],
   "metadata": {
    "collapsed": false,
    "id": "Y2mA5wUSUiXH"
   }
  },
  {
   "cell_type": "code",
   "outputs": [
    {
     "output_type": "stream",
     "name": "stderr",
     "text": [
      "Some weights of BertForSequenceClassification were not initialized from the model checkpoint at bert-base-uncased and are newly initialized: ['classifier.bias', 'classifier.weight']\n",
      "You should probably TRAIN this model on a down-stream task to be able to use it for predictions and inference.\n"
     ]
    }
   ],
   "source": [
    "# Define the number of epochs for training\n",
    "num_epochs = 5\n",
    "\n",
    "# Load the BERT model for sequence classification\n",
    "model = BertForSequenceClassification.from_pretrained('bert-base-uncased', num_labels=2)\n",
    "model = model.to(device)  # Move the model to the appropriate device (CPU or GPU)\n",
    "\n",
    "# Prepare optimizer and schedule (linear warmup and decay)\n",
    "optimizer = AdamW(model.parameters(), lr=2e-4)\n",
    "total_steps = len(train_loader) * num_epochs\n",
    "scheduler = get_linear_schedule_with_warmup(optimizer, num_warmup_steps=0, num_training_steps=total_steps)"
   ],
   "metadata": {
    "colab": {
     "base_uri": "https://localhost:8080/"
    },
    "id": "7Dmi99g5UiXH",
    "executionInfo": {
     "status": "ok",
     "timestamp": 1711031909652,
     "user_tz": -60,
     "elapsed": 2054,
     "user": {
      "displayName": "Linus Stuhlmann",
      "userId": "07279173608860907824"
     }
    },
    "outputId": "79e792a5-3d6c-469d-9dac-520c8ed3d739"
   },
   "execution_count": 7
  },
  {
   "cell_type": "markdown",
   "source": [
    "## Training loop"
   ],
   "metadata": {
    "collapsed": false,
    "id": "-M9p96pTUiXH"
   }
  },
  {
   "cell_type": "code",
   "outputs": [],
   "source": [
    "# Listen zur Speicherung der Verlustwerte\n",
    "train_loss_values = []\n",
    "val_loss_values = []\n",
    "val_f1_scores = []\n",
    "\n",
    "# Training and validation loop\n",
    "for epoch in range(num_epochs):\n",
    "    model.train()\n",
    "    total_loss = 0\n",
    "    for batch in tqdm(train_loader, desc=f\"Training Epoch {epoch + 1}\"):\n",
    "        batch = tuple(t.to(device) for t in batch)\n",
    "        b_input_ids, b_attention_mask, b_labels = batch\n",
    "\n",
    "        optimizer.zero_grad()\n",
    "\n",
    "        outputs = model(b_input_ids, attention_mask=b_attention_mask, labels=b_labels)\n",
    "        loss = outputs.loss\n",
    "        loss.backward()\n",
    "\n",
    "        # Gradient clipping\n",
    "        torch.nn.utils.clip_grad_norm_(model.parameters(), 1.0)\n",
    "\n",
    "        total_loss += loss.item()\n",
    "        optimizer.step()\n",
    "        scheduler.step()\n",
    "\n",
    "    avg_train_loss = total_loss / len(train_loader)\n",
    "    train_loss_values.append(avg_train_loss)\n",
    "\n",
    "    # Validation phase\n",
    "    model.eval()\n",
    "    total_val_loss = 0\n",
    "    all_predictions = []\n",
    "    all_true_labels = []\n",
    "    for batch in tqdm(val_loader, desc=f\"Validation Epoch {epoch + 1}\"):\n",
    "        batch = tuple(t.to(device) for t in batch)\n",
    "        b_input_ids, b_attention_mask, b_labels = batch\n",
    "\n",
    "        with torch.no_grad():\n",
    "            outputs = model(b_input_ids, attention_mask=b_attention_mask, labels=b_labels)\n",
    "            loss = outputs.loss\n",
    "            total_val_loss += loss.item()\n",
    "\n",
    "            logits = outputs.logits\n",
    "            logits = logits.detach().cpu().numpy()\n",
    "            label_ids = b_labels.to('cpu').numpy()\n",
    "            batch_predictions = np.argmax(logits, axis=1).flatten()\n",
    "\n",
    "            # Speichern der Vorhersagen und tatsächlichen Labels für später\n",
    "            all_predictions.extend(batch_predictions)\n",
    "            all_true_labels.extend(label_ids)\n",
    "\n",
    "    avg_val_loss = total_val_loss / len(val_loader)\n",
    "    val_loss_values.append(avg_val_loss)\n",
    "\n",
    "    # F1-Score für das gesamte Validierungsset berechnen\n",
    "    f1 = f1_score(all_true_labels, all_predictions, average='macro', zero_division=0)\n",
    "    val_f1_scores.append(f1)\n",
    "\n",
    "    print(f\"Epoch {epoch+1} - Validation Loss: {avg_val_loss:.4f}, Validation F1 Score: {f1:.4f}\")"
   ],
   "metadata": {
    "ExecuteTime": {
     "start_time": "2024-03-21T13:49:04.573367Z"
    },
    "id": "6kSs3peTUiXH"
   },
   "execution_count": null
  },
  {
   "cell_type": "markdown",
   "source": [
    "Training Epoch 1: 100%|██████████| 282/282 [02:06<00:00,  2.23it/s]\n",
    "Validation Epoch 1: 100%|██████████| 32/32 [00:04<00:00,  7.00it/s]\n",
    "Epoch 1 - Validation Loss: 0.3539, Validation F1 Score: 0.6908\n",
    "Training Epoch 2: 100%|██████████| 282/282 [02:05<00:00,  2.25it/s]\n",
    "Validation Epoch 2: 100%|██████████| 32/32 [00:04<00:00,  6.99it/s]\n",
    "Epoch 2 - Validation Loss: 0.2279, Validation F1 Score: 0.8261\n",
    "Training Epoch 3: 100%|██████████| 282/282 [02:05<00:00,  2.25it/s]\n",
    "Validation Epoch 3: 100%|██████████| 32/32 [00:04<00:00,  6.98it/s]\n",
    "Epoch 3 - Validation Loss: 0.3583, Validation F1 Score: 0.7402\n",
    "Training Epoch 4: 100%|██████████| 282/282 [02:05<00:00,  2.25it/s]\n",
    "Validation Epoch 4: 100%|██████████| 32/32 [00:04<00:00,  6.99it/s]\n",
    "Epoch 4 - Validation Loss: 0.1845, Validation F1 Score: 0.8731\n",
    "Training Epoch 5: 100%|██████████| 282/282 [02:05<00:00,  2.25it/s]\n",
    "Validation Epoch 5: 100%|██████████| 32/32 [00:04<00:00,  7.01it/s]\n",
    "Epoch 5 - Validation Loss: 0.1942, Validation F1 Score: 0.8733"
   ],
   "metadata": {
    "id": "Gl1pwz6Bg6e4"
   }
  },
  {
   "cell_type": "code",
   "source": [
    "# Erstellen Sie eine Figur und ein Subplot-Grid von 1x2\n",
    "fig, (ax1, ax2) = plt.subplots(1, 2, figsize=(24, 6))\n",
    "\n",
    "# Erster Plot: Verlust-Lernkurve\n",
    "ax1.plot(train_loss_values, label='Trainingsverlust')\n",
    "ax1.plot(val_loss_values, label='Validierungsverlust')\n",
    "ax1.set_xlabel('Epochen')\n",
    "ax1.set_ylabel('Verlust')\n",
    "ax1.set_title('Verlust-Lernkurve')\n",
    "ax1.legend()\n",
    "\n",
    "# Zweiter Plot: F1-Score-Lernkurve\n",
    "ax2.plot(val_f1_scores, label='Validierungs-F1-Score', color='orange')\n",
    "ax2.set_xlabel('Epochen')\n",
    "ax2.set_ylabel('F1-Score')\n",
    "ax2.set_title('F1-Score-Lernkurve')\n",
    "ax2.legend()\n",
    "\n",
    "# Die Plots anzeigen\n",
    "plt.show()\n"
   ],
   "metadata": {
    "colab": {
     "base_uri": "https://localhost:8080/",
     "height": 323
    },
    "id": "Io33huiLgibB",
    "executionInfo": {
     "status": "ok",
     "timestamp": 1711032961287,
     "user_tz": -60,
     "elapsed": 1596,
     "user": {
      "displayName": "Linus Stuhlmann",
      "userId": "07279173608860907824"
     }
    },
    "outputId": "2277eb78-ac96-4d04-a840-806b41e1a53e"
   },
   "execution_count": 10,
   "outputs": [
    {
     "output_type": "display_data",
     "data": {
      "text/plain": [
       "<Figure size 2400x600 with 2 Axes>"
      ],
      "image/png": "[encoded data removed]"
     },
     "metadata": {}
    }
   ]
  },
  {
   "cell_type": "code",
   "source": [
    "# base_path festlegen (bereits gegeben)\n",
    "base_path = '/content/drive/My Drive/'\n",
    "\n",
    "# data_path erstellen, falls er nicht existiert\n",
    "data_path = os.path.join(base_path, 'NLP/classification_pipeline/model')\n",
    "if not os.path.exists(data_path):\n",
    "    os.makedirs(data_path)\n",
    "\n",
    "# Dateiname für das gespeicherte Modell festlegen\n",
    "model_file_path = os.path.join(data_path, 'model.pth')\n",
    "\n",
    "# Modell speichern\n",
    "torch.save(model.state_dict(), model_file_path)\n",
    "\n",
    "print(f'Modell wurde erfolgreich unter {model_file_path} gespeichert.')"
   ],
   "metadata": {
    "id": "srHHzERCW8Wp",
    "colab": {
     "base_uri": "https://localhost:8080/"
    },
    "executionInfo": {
     "status": "ok",
     "timestamp": 1711032604023,
     "user_tz": -60,
     "elapsed": 1843,
     "user": {
      "displayName": "Linus Stuhlmann",
      "userId": "07279173608860907824"
     }
    },
    "outputId": "3226fdd3-bf5f-47a6-dfd9-99949b5f0411"
   },
   "execution_count": 9,
   "outputs": [
    {
     "output_type": "stream",
     "name": "stdout",
     "text": [
      "Modell wurde erfolgreich unter /content/drive/My Drive/NLP/classification_pipeline/model/model.pth gespeichert.\n"
     ]
    }
   ]
  }
 ],
 "metadata": {
  "kernelspec": {
   "name": "python3",
   "language": "python",
   "display_name": "Python 3 (ipykernel)"
  },
  "language_info": {
   "codemirror_mode": {
    "name": "ipython",
    "version": 3
   },
   "file_extension": ".py",
   "mimetype": "text/x-python",
   "name": "python",
   "nbconvert_exporter": "python",
   "pygments_lexer": "ipython3",
   "version": "3.9.16"
  },
  "colab": {
   "provenance": [],
   "gpuType": "V100",
   "machine_shape": "hm"
  },
  "accelerator": "GPU",
  "widgets": {
   "application/vnd.jupyter.widget-state+json": {
    "b902067172694b19b6729d27e88332cc": {
     "model_module": "@jupyter-widgets/controls",
     "model_name": "HBoxModel",
     "model_module_version": "1.5.0",
     "state": {
      "_dom_classes": [],
      "_model_module": "@jupyter-widgets/controls",
      "_model_module_version": "1.5.0",
      "_model_name": "HBoxModel",
      "_view_count": null,
      "_view_module": "@jupyter-widgets/controls",
      "_view_module_version": "1.5.0",
      "_view_name": "HBoxView",
      "box_style": "",
      "children": [
       "IPY_MODEL_72bdaee8de4b40f39966b0566b85ae98",
       "IPY_MODEL_4826d67a35e94b438373164bfa96ba90",
       "IPY_MODEL_97504467dc794f9f803d8a2d1bb98e4a"
      ],
      "layout": "IPY_MODEL_1e3ba41da39a48e4ad5b3c1fb8cbbd28"
     }
    },
    "72bdaee8de4b40f39966b0566b85ae98": {
     "model_module": "@jupyter-widgets/controls",
     "model_name": "HTMLModel",
     "model_module_version": "1.5.0",
     "state": {
      "_dom_classes": [],
      "_model_module": "@jupyter-widgets/controls",
      "_model_module_version": "1.5.0",
      "_model_name": "HTMLModel",
      "_view_count": null,
      "_view_module": "@jupyter-widgets/controls",
      "_view_module_version": "1.5.0",
      "_view_name": "HTMLView",
      "description": "",
      "description_tooltip": null,
      "layout": "IPY_MODEL_96c397ca2f914a19a7d65d037b3af8dc",
      "placeholder": "​",
      "style": "IPY_MODEL_40a523fd0c444d9e847b8b97a328d246",
      "value": "config.json: 100%"
     }
    },
    "4826d67a35e94b438373164bfa96ba90": {
     "model_module": "@jupyter-widgets/controls",
     "model_name": "FloatProgressModel",
     "model_module_version": "1.5.0",
     "state": {
      "_dom_classes": [],
      "_model_module": "@jupyter-widgets/controls",
      "_model_module_version": "1.5.0",
      "_model_name": "FloatProgressModel",
      "_view_count": null,
      "_view_module": "@jupyter-widgets/controls",
      "_view_module_version": "1.5.0",
      "_view_name": "ProgressView",
      "bar_style": "success",
      "description": "",
      "description_tooltip": null,
      "layout": "IPY_MODEL_90495a893d4e4fb4864629c00073e5cc",
      "max": 570,
      "min": 0,
      "orientation": "horizontal",
      "style": "IPY_MODEL_68a9ef24452b419383cf0b60483b6adc",
      "value": 570
     }
    },
    "97504467dc794f9f803d8a2d1bb98e4a": {
     "model_module": "@jupyter-widgets/controls",
     "model_name": "HTMLModel",
     "model_module_version": "1.5.0",
     "state": {
      "_dom_classes": [],
      "_model_module": "@jupyter-widgets/controls",
      "_model_module_version": "1.5.0",
      "_model_name": "HTMLModel",
      "_view_count": null,
      "_view_module": "@jupyter-widgets/controls",
      "_view_module_version": "1.5.0",
      "_view_name": "HTMLView",
      "description": "",
      "description_tooltip": null,
      "layout": "IPY_MODEL_f204d39a2da246c6adde0da171420def",
      "placeholder": "​",
      "style": "IPY_MODEL_e45291ee62b14362b688f79818f802ff",
      "value": " 570/570 [00:00&lt;00:00, 51.8kB/s]"
     }
    },
    "1e3ba41da39a48e4ad5b3c1fb8cbbd28": {
     "model_module": "@jupyter-widgets/base",
     "model_name": "LayoutModel",
     "model_module_version": "1.2.0",
     "state": {
      "_model_module": "@jupyter-widgets/base",
      "_model_module_version": "1.2.0",
      "_model_name": "LayoutModel",
      "_view_count": null,
      "_view_module": "@jupyter-widgets/base",
      "_view_module_version": "1.2.0",
      "_view_name": "LayoutView",
      "align_content": null,
      "align_items": null,
      "align_self": null,
      "border": null,
      "bottom": null,
      "display": null,
      "flex": null,
      "flex_flow": null,
      "grid_area": null,
      "grid_auto_columns": null,
      "grid_auto_flow": null,
      "grid_auto_rows": null,
      "grid_column": null,
      "grid_gap": null,
      "grid_row": null,
      "grid_template_areas": null,
      "grid_template_columns": null,
      "grid_template_rows": null,
      "height": null,
      "justify_content": null,
      "justify_items": null,
      "left": null,
      "margin": null,
      "max_height": null,
      "max_width": null,
      "min_height": null,
      "min_width": null,
      "object_fit": null,
      "object_position": null,
      "order": null,
      "overflow": null,
      "overflow_x": null,
      "overflow_y": null,
      "padding": null,
      "right": null,
      "top": null,
      "visibility": null,
      "width": null
     }
    },
    "96c397ca2f914a19a7d65d037b3af8dc": {
     "model_module": "@jupyter-widgets/base",
     "model_name": "LayoutModel",
     "model_module_version": "1.2.0",
     "state": {
      "_model_module": "@jupyter-widgets/base",
      "_model_module_version": "1.2.0",
      "_model_name": "LayoutModel",
      "_view_count": null,
      "_view_module": "@jupyter-widgets/base",
      "_view_module_version": "1.2.0",
      "_view_name": "LayoutView",
      "align_content": null,
      "align_items": null,
      "align_self": null,
      "border": null,
      "bottom": null,
      "display": null,
      "flex": null,
      "flex_flow": null,
      "grid_area": null,
      "grid_auto_columns": null,
      "grid_auto_flow": null,
      "grid_auto_rows": null,
      "grid_column": null,
      "grid_gap": null,
      "grid_row": null,
      "grid_template_areas": null,
      "grid_template_columns": null,
      "grid_template_rows": null,
      "height": null,
      "justify_content": null,
      "justify_items": null,
      "left": null,
      "margin": null,
      "max_height": null,
      "max_width": null,
      "min_height": null,
      "min_width": null,
      "object_fit": null,
      "object_position": null,
      "order": null,
      "overflow": null,
      "overflow_x": null,
      "overflow_y": null,
      "padding": null,
      "right": null,
      "top": null,
      "visibility": null,
      "width": null
     }
    },
    "40a523fd0c444d9e847b8b97a328d246": {
     "model_module": "@jupyter-widgets/controls",
     "model_name": "DescriptionStyleModel",
     "model_module_version": "1.5.0",
     "state": {
      "_model_module": "@jupyter-widgets/controls",
      "_model_module_version": "1.5.0",
      "_model_name": "DescriptionStyleModel",
      "_view_count": null,
      "_view_module": "@jupyter-widgets/base",
      "_view_module_version": "1.2.0",
      "_view_name": "StyleView",
      "description_width": ""
     }
    },
    "90495a893d4e4fb4864629c00073e5cc": {
     "model_module": "@jupyter-widgets/base",
     "model_name": "LayoutModel",
     "model_module_version": "1.2.0",
     "state": {
      "_model_module": "@jupyter-widgets/base",
      "_model_module_version": "1.2.0",
      "_model_name": "LayoutModel",
      "_view_count": null,
      "_view_module": "@jupyter-widgets/base",
      "_view_module_version": "1.2.0",
      "_view_name": "LayoutView",
      "align_content": null,
      "align_items": null,
      "align_self": null,
      "border": null,
      "bottom": null,
      "display": null,
      "flex": null,
      "flex_flow": null,
      "grid_area": null,
      "grid_auto_columns": null,
      "grid_auto_flow": null,
      "grid_auto_rows": null,
      "grid_column": null,
      "grid_gap": null,
      "grid_row": null,
      "grid_template_areas": null,
      "grid_template_columns": null,
      "grid_template_rows": null,
      "height": null,
      "justify_content": null,
      "justify_items": null,
      "left": null,
      "margin": null,
      "max_height": null,
      "max_width": null,
      "min_height": null,
      "min_width": null,
      "object_fit": null,
      "object_position": null,
      "order": null,
      "overflow": null,
      "overflow_x": null,
      "overflow_y": null,
      "padding": null,
      "right": null,
      "top": null,
      "visibility": null,
      "width": null
     }
    },
    "68a9ef24452b419383cf0b60483b6adc": {
     "model_module": "@jupyter-widgets/controls",
     "model_name": "ProgressStyleModel",
     "model_module_version": "1.5.0",
     "state": {
      "_model_module": "@jupyter-widgets/controls",
      "_model_module_version": "1.5.0",
      "_model_name": "ProgressStyleModel",
      "_view_count": null,
      "_view_module": "@jupyter-widgets/base",
      "_view_module_version": "1.2.0",
      "_view_name": "StyleView",
      "bar_color": null,
      "description_width": ""
     }
    },
    "f204d39a2da246c6adde0da171420def": {
     "model_module": "@jupyter-widgets/base",
     "model_name": "LayoutModel",
     "model_module_version": "1.2.0",
     "state": {
      "_model_module": "@jupyter-widgets/base",
      "_model_module_version": "1.2.0",
      "_model_name": "LayoutModel",
      "_view_count": null,
      "_view_module": "@jupyter-widgets/base",
      "_view_module_version": "1.2.0",
      "_view_name": "LayoutView",
      "align_content": null,
      "align_items": null,
      "align_self": null,
      "border": null,
      "bottom": null,
      "display": null,
      "flex": null,
      "flex_flow": null,
      "grid_area": null,
      "grid_auto_columns": null,
      "grid_auto_flow": null,
      "grid_auto_rows": null,
      "grid_column": null,
      "grid_gap": null,
      "grid_row": null,
      "grid_template_areas": null,
      "grid_template_columns": null,
      "grid_template_rows": null,
      "height": null,
      "justify_content": null,
      "justify_items": null,
      "left": null,
      "margin": null,
      "max_height": null,
      "max_width": null,
      "min_height": null,
      "min_width": null,
      "object_fit": null,
      "object_position": null,
      "order": null,
      "overflow": null,
      "overflow_x": null,
      "overflow_y": null,
      "padding": null,
      "right": null,
      "top": null,
      "visibility": null,
      "width": null
     }
    },
    "e45291ee62b14362b688f79818f802ff": {
     "model_module": "@jupyter-widgets/controls",
     "model_name": "DescriptionStyleModel",
     "model_module_version": "1.5.0",
     "state": {
      "_model_module": "@jupyter-widgets/controls",
      "_model_module_version": "1.5.0",
      "_model_name": "DescriptionStyleModel",
      "_view_count": null,
      "_view_module": "@jupyter-widgets/base",
      "_view_module_version": "1.2.0",
      "_view_name": "StyleView",
      "description_width": ""
     }
    },
    "019d280de0fe4a2d915639e9ddfa333b": {
     "model_module": "@jupyter-widgets/controls",
     "model_name": "HBoxModel",
     "model_module_version": "1.5.0",
     "state": {
      "_dom_classes": [],
      "_model_module": "@jupyter-widgets/controls",
      "_model_module_version": "1.5.0",
      "_model_name": "HBoxModel",
      "_view_count": null,
      "_view_module": "@jupyter-widgets/controls",
      "_view_module_version": "1.5.0",
      "_view_name": "HBoxView",
      "box_style": "",
      "children": [
       "IPY_MODEL_9123f8b9a56742c1a2661102ddaa9e25",
       "IPY_MODEL_186fd52015714c4b82130c4a5138a480",
       "IPY_MODEL_08086ee40492438c84b22da0f8bf7b11"
      ],
      "layout": "IPY_MODEL_04df58e0311c43b5be6f6785a310e39b"
     }
    },
    "9123f8b9a56742c1a2661102ddaa9e25": {
     "model_module": "@jupyter-widgets/controls",
     "model_name": "HTMLModel",
     "model_module_version": "1.5.0",
     "state": {
      "_dom_classes": [],
      "_model_module": "@jupyter-widgets/controls",
      "_model_module_version": "1.5.0",
      "_model_name": "HTMLModel",
      "_view_count": null,
      "_view_module": "@jupyter-widgets/controls",
      "_view_module_version": "1.5.0",
      "_view_name": "HTMLView",
      "description": "",
      "description_tooltip": null,
      "layout": "IPY_MODEL_f6deaaafd34f4608949a0fbf36be802a",
      "placeholder": "​",
      "style": "IPY_MODEL_6c6be1f9fcf243ce9e249af98fe9d62d",
      "value": "model.safetensors: 100%"
     }
    },
    "186fd52015714c4b82130c4a5138a480": {
     "model_module": "@jupyter-widgets/controls",
     "model_name": "FloatProgressModel",
     "model_module_version": "1.5.0",
     "state": {
      "_dom_classes": [],
      "_model_module": "@jupyter-widgets/controls",
      "_model_module_version": "1.5.0",
      "_model_name": "FloatProgressModel",
      "_view_count": null,
      "_view_module": "@jupyter-widgets/controls",
      "_view_module_version": "1.5.0",
      "_view_name": "ProgressView",
      "bar_style": "success",
      "description": "",
      "description_tooltip": null,
      "layout": "IPY_MODEL_ff926a3b29a64d228aedc01c36df55ce",
      "max": 440449768,
      "min": 0,
      "orientation": "horizontal",
      "style": "IPY_MODEL_12329f443c284fc4bafa2fa3c6fb5f48",
      "value": 440449768
     }
    },
    "08086ee40492438c84b22da0f8bf7b11": {
     "model_module": "@jupyter-widgets/controls",
     "model_name": "HTMLModel",
     "model_module_version": "1.5.0",
     "state": {
      "_dom_classes": [],
      "_model_module": "@jupyter-widgets/controls",
      "_model_module_version": "1.5.0",
      "_model_name": "HTMLModel",
      "_view_count": null,
      "_view_module": "@jupyter-widgets/controls",
      "_view_module_version": "1.5.0",
      "_view_name": "HTMLView",
      "description": "",
      "description_tooltip": null,
      "layout": "IPY_MODEL_74b806dfd3704a70b5cea267800b7044",
      "placeholder": "​",
      "style": "IPY_MODEL_914b273f2e1a4028bba5e7b6feae9b18",
      "value": " 440M/440M [00:01&lt;00:00, 412MB/s]"
     }
    },
    "04df58e0311c43b5be6f6785a310e39b": {
     "model_module": "@jupyter-widgets/base",
     "model_name": "LayoutModel",
     "model_module_version": "1.2.0",
     "state": {
      "_model_module": "@jupyter-widgets/base",
      "_model_module_version": "1.2.0",
      "_model_name": "LayoutModel",
      "_view_count": null,
      "_view_module": "@jupyter-widgets/base",
      "_view_module_version": "1.2.0",
      "_view_name": "LayoutView",
      "align_content": null,
      "align_items": null,
      "align_self": null,
      "border": null,
      "bottom": null,
      "display": null,
      "flex": null,
      "flex_flow": null,
      "grid_area": null,
      "grid_auto_columns": null,
      "grid_auto_flow": null,
      "grid_auto_rows": null,
      "grid_column": null,
      "grid_gap": null,
      "grid_row": null,
      "grid_template_areas": null,
      "grid_template_columns": null,
      "grid_template_rows": null,
      "height": null,
      "justify_content": null,
      "justify_items": null,
      "left": null,
      "margin": null,
      "max_height": null,
      "max_width": null,
      "min_height": null,
      "min_width": null,
      "object_fit": null,
      "object_position": null,
      "order": null,
      "overflow": null,
      "overflow_x": null,
      "overflow_y": null,
      "padding": null,
      "right": null,
      "top": null,
      "visibility": null,
      "width": null
     }
    },
    "f6deaaafd34f4608949a0fbf36be802a": {
     "model_module": "@jupyter-widgets/base",
     "model_name": "LayoutModel",
     "model_module_version": "1.2.0",
     "state": {
      "_model_module": "@jupyter-widgets/base",
      "_model_module_version": "1.2.0",
      "_model_name": "LayoutModel",
      "_view_count": null,
      "_view_module": "@jupyter-widgets/base",
      "_view_module_version": "1.2.0",
      "_view_name": "LayoutView",
      "align_content": null,
      "align_items": null,
      "align_self": null,
      "border": null,
      "bottom": null,
      "display": null,
      "flex": null,
      "flex_flow": null,
      "grid_area": null,
      "grid_auto_columns": null,
      "grid_auto_flow": null,
      "grid_auto_rows": null,
      "grid_column": null,
      "grid_gap": null,
      "grid_row": null,
      "grid_template_areas": null,
      "grid_template_columns": null,
      "grid_template_rows": null,
      "height": null,
      "justify_content": null,
      "justify_items": null,
      "left": null,
      "margin": null,
      "max_height": null,
      "max_width": null,
      "min_height": null,
      "min_width": null,
      "object_fit": null,
      "object_position": null,
      "order": null,
      "overflow": null,
      "overflow_x": null,
      "overflow_y": null,
      "padding": null,
      "right": null,
      "top": null,
      "visibility": null,
      "width": null
     }
    },
    "6c6be1f9fcf243ce9e249af98fe9d62d": {
     "model_module": "@jupyter-widgets/controls",
     "model_name": "DescriptionStyleModel",
     "model_module_version": "1.5.0",
     "state": {
      "_model_module": "@jupyter-widgets/controls",
      "_model_module_version": "1.5.0",
      "_model_name": "DescriptionStyleModel",
      "_view_count": null,
      "_view_module": "@jupyter-widgets/base",
      "_view_module_version": "1.2.0",
      "_view_name": "StyleView",
      "description_width": ""
     }
    },
    "ff926a3b29a64d228aedc01c36df55ce": {
     "model_module": "@jupyter-widgets/base",
     "model_name": "LayoutModel",
     "model_module_version": "1.2.0",
     "state": {
      "_model_module": "@jupyter-widgets/base",
      "_model_module_version": "1.2.0",
      "_model_name": "LayoutModel",
      "_view_count": null,
      "_view_module": "@jupyter-widgets/base",
      "_view_module_version": "1.2.0",
      "_view_name": "LayoutView",
      "align_content": null,
      "align_items": null,
      "align_self": null,
      "border": null,
      "bottom": null,
      "display": null,
      "flex": null,
      "flex_flow": null,
      "grid_area": null,
      "grid_auto_columns": null,
      "grid_auto_flow": null,
      "grid_auto_rows": null,
      "grid_column": null,
      "grid_gap": null,
      "grid_row": null,
      "grid_template_areas": null,
      "grid_template_columns": null,
      "grid_template_rows": null,
      "height": null,
      "justify_content": null,
      "justify_items": null,
      "left": null,
      "margin": null,
      "max_height": null,
      "max_width": null,
      "min_height": null,
      "min_width": null,
      "object_fit": null,
      "object_position": null,
      "order": null,
      "overflow": null,
      "overflow_x": null,
      "overflow_y": null,
      "padding": null,
      "right": null,
      "top": null,
      "visibility": null,
      "width": null
     }
    },
    "12329f443c284fc4bafa2fa3c6fb5f48": {
     "model_module": "@jupyter-widgets/controls",
     "model_name": "ProgressStyleModel",
     "model_module_version": "1.5.0",
     "state": {
      "_model_module": "@jupyter-widgets/controls",
      "_model_module_version": "1.5.0",
      "_model_name": "ProgressStyleModel",
      "_view_count": null,
      "_view_module": "@jupyter-widgets/base",
      "_view_module_version": "1.2.0",
      "_view_name": "StyleView",
      "bar_color": null,
      "description_width": ""
     }
    },
    "74b806dfd3704a70b5cea267800b7044": {
     "model_module": "@jupyter-widgets/base",
     "model_name": "LayoutModel",
     "model_module_version": "1.2.0",
     "state": {
      "_model_module": "@jupyter-widgets/base",
      "_model_module_version": "1.2.0",
      "_model_name": "LayoutModel",
      "_view_count": null,
      "_view_module": "@jupyter-widgets/base",
      "_view_module_version": "1.2.0",
      "_view_name": "LayoutView",
      "align_content": null,
      "align_items": null,
      "align_self": null,
      "border": null,
      "bottom": null,
      "display": null,
      "flex": null,
      "flex_flow": null,
      "grid_area": null,
      "grid_auto_columns": null,
      "grid_auto_flow": null,
      "grid_auto_rows": null,
      "grid_column": null,
      "grid_gap": null,
      "grid_row": null,
      "grid_template_areas": null,
      "grid_template_columns": null,
      "grid_template_rows": null,
      "height": null,
      "justify_content": null,
      "justify_items": null,
      "left": null,
      "margin": null,
      "max_height": null,
      "max_width": null,
      "min_height": null,
      "min_width": null,
      "object_fit": null,
      "object_position": null,
      "order": null,
      "overflow": null,
      "overflow_x": null,
      "overflow_y": null,
      "padding": null,
      "right": null,
      "top": null,
      "visibility": null,
      "width": null
     }
    },
    "914b273f2e1a4028bba5e7b6feae9b18": {
     "model_module": "@jupyter-widgets/controls",
     "model_name": "DescriptionStyleModel",
     "model_module_version": "1.5.0",
     "state": {
      "_model_module": "@jupyter-widgets/controls",
      "_model_module_version": "1.5.0",
      "_model_name": "DescriptionStyleModel",
      "_view_count": null,
      "_view_module": "@jupyter-widgets/base",
      "_view_module_version": "1.2.0",
      "_view_name": "StyleView",
      "description_width": ""
     }
    }
   }
  }
 },
 "nbformat": 4,
 "nbformat_minor": 0
}
