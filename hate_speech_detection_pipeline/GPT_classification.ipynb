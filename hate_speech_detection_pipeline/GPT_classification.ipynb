{
 "cells": [
  {
   "cell_type": "code",
   "outputs": [],
   "source": [
    "from chat_GPT import Chat\n",
    "import pandas as pd\n",
    "from tqdm.auto import tqdm"
   ],
   "metadata": {
    "collapsed": true,
    "id": "initial_id",
    "executionInfo": {
     "status": "aborted",
     "timestamp": 1711313489976,
     "user_tz": -60,
     "elapsed": 5,
     "user": {
      "displayName": "Linus Stuhlmann",
      "userId": "07279173608860907824"
     }
    },
    "ExecuteTime": {
     "end_time": "2024-03-26T15:19:22.136104Z",
     "start_time": "2024-03-26T15:19:20.522837Z"
    }
   },
   "id": "initial_id",
   "execution_count": 1
  },
  {
   "cell_type": "markdown",
   "source": [
    "Importing the test data"
   ],
   "metadata": {
    "collapsed": false,
    "id": "a0bfa0e4e32dd1ef"
   },
   "id": "a0bfa0e4e32dd1ef"
  },
  {
   "cell_type": "code",
   "outputs": [
    {
     "data": {
      "text/plain": "                 id                                       comment_text  label\n0  c808bb3b0fda7b9e  Fair enough  Its not really the freeness or ot...      1\n1  9851e54ff65af090  Why did you remove the section I created about...      1\n2  b700358de5384110              tommy y dont u suk my fat dik u bitch      1\n3  825a091f28fa007d   AND FOR THE LAST FUCKING TIME There is no dis...      1\n4  e82e6daeba6eed92                            I hate you guys so much      1\n5  6d36fa82ca88f214  Hmm I honestly dont know whether the bot will ...      0\n6  35b31097a877cf8b             penis     im da real nigga in dis hood      1\n7  abe1ba4d9c273814  If you deny you are SquealingPig you are a lia...      1\n8  14dabf20b28b2991               REDIRECT TalkEastern Suburbs season       0\n9  c07accf37e49981a  Jeff G has a vagina and likes to get pounded i...      1",
      "text/html": "<div>\n<style scoped>\n    .dataframe tbody tr th:only-of-type {\n        vertical-align: middle;\n    }\n\n    .dataframe tbody tr th {\n        vertical-align: top;\n    }\n\n    .dataframe thead th {\n        text-align: right;\n    }\n</style>\n<table border=\"1\" class=\"dataframe\">\n  <thead>\n    <tr style=\"text-align: right;\">\n      <th></th>\n      <th>id</th>\n      <th>comment_text</th>\n      <th>label</th>\n    </tr>\n  </thead>\n  <tbody>\n    <tr>\n      <th>0</th>\n      <td>c808bb3b0fda7b9e</td>\n      <td>Fair enough  Its not really the freeness or ot...</td>\n      <td>1</td>\n    </tr>\n    <tr>\n      <th>1</th>\n      <td>9851e54ff65af090</td>\n      <td>Why did you remove the section I created about...</td>\n      <td>1</td>\n    </tr>\n    <tr>\n      <th>2</th>\n      <td>b700358de5384110</td>\n      <td>tommy y dont u suk my fat dik u bitch</td>\n      <td>1</td>\n    </tr>\n    <tr>\n      <th>3</th>\n      <td>825a091f28fa007d</td>\n      <td>AND FOR THE LAST FUCKING TIME There is no dis...</td>\n      <td>1</td>\n    </tr>\n    <tr>\n      <th>4</th>\n      <td>e82e6daeba6eed92</td>\n      <td>I hate you guys so much</td>\n      <td>1</td>\n    </tr>\n    <tr>\n      <th>5</th>\n      <td>6d36fa82ca88f214</td>\n      <td>Hmm I honestly dont know whether the bot will ...</td>\n      <td>0</td>\n    </tr>\n    <tr>\n      <th>6</th>\n      <td>35b31097a877cf8b</td>\n      <td>penis     im da real nigga in dis hood</td>\n      <td>1</td>\n    </tr>\n    <tr>\n      <th>7</th>\n      <td>abe1ba4d9c273814</td>\n      <td>If you deny you are SquealingPig you are a lia...</td>\n      <td>1</td>\n    </tr>\n    <tr>\n      <th>8</th>\n      <td>14dabf20b28b2991</td>\n      <td>REDIRECT TalkEastern Suburbs season</td>\n      <td>0</td>\n    </tr>\n    <tr>\n      <th>9</th>\n      <td>c07accf37e49981a</td>\n      <td>Jeff G has a vagina and likes to get pounded i...</td>\n      <td>1</td>\n    </tr>\n  </tbody>\n</table>\n</div>"
     },
     "execution_count": 7,
     "metadata": {},
     "output_type": "execute_result"
    }
   ],
   "source": [
    "data = pd.read_csv(\"data/test/balanced_test.csv\")\n",
    "data.head(10)"
   ],
   "metadata": {
    "id": "76fc8e9d254db7f",
    "outputId": "c39cfb3e-a9c1-480d-f7ae-455d934b3767",
    "ExecuteTime": {
     "end_time": "2024-03-26T15:19:57.481211Z",
     "start_time": "2024-03-26T15:19:57.412496Z"
    }
   },
   "id": "76fc8e9d254db7f",
   "execution_count": 7
  },
  {
   "cell_type": "markdown",
   "source": [
    "Creating a subset of the data to test the GPT-3 model"
   ],
   "metadata": {
    "collapsed": false,
    "id": "faba8c8445cef54a"
   },
   "id": "faba8c8445cef54a"
  },
  {
   "cell_type": "code",
   "outputs": [],
   "source": [
    "messages = data['comment_text'][0:1000].to_list()"
   ],
   "metadata": {
    "id": "c800e9580ed61c51",
    "ExecuteTime": {
     "end_time": "2024-03-26T15:20:05.224554Z",
     "start_time": "2024-03-26T15:20:05.218762Z"
    }
   },
   "id": "c800e9580ed61c51",
   "execution_count": 8
  },
  {
   "cell_type": "markdown",
   "source": [
    "## Classify the messages using GPT-3.5 turbo\n",
    "\n",
    "Importing the chat_GPT class and creating a chat object to classify the messages. We used chunks of 10 messages to reduce the number tokens per request to the API."
   ],
   "metadata": {
    "collapsed": false,
    "id": "20fdc964c260d568"
   },
   "id": "20fdc964c260d568"
  },
  {
   "cell_type": "code",
   "outputs": [
    {
     "data": {
      "text/plain": "  0%|          | 0/100 [00:00<?, ?it/s]",
      "application/vnd.jupyter.widget-view+json": {
       "version_major": 2,
       "version_minor": 0,
       "model_id": "608b7888374a4e92859d53664b06e27e"
      }
     },
     "metadata": {},
     "output_type": "display_data"
    },
    {
     "ename": "KeyboardInterrupt",
     "evalue": "",
     "output_type": "error",
     "traceback": [
      "\u001B[1;31m---------------------------------------------------------------------------\u001B[0m",
      "\u001B[1;31mKeyboardInterrupt\u001B[0m                         Traceback (most recent call last)",
      "Cell \u001B[1;32mIn[9], line 6\u001B[0m\n\u001B[0;32m      4\u001B[0m \u001B[38;5;28;01mfor\u001B[39;00m i \u001B[38;5;129;01min\u001B[39;00m tqdm(\u001B[38;5;28mrange\u001B[39m(\u001B[38;5;241m0\u001B[39m, \u001B[38;5;28mlen\u001B[39m(messages), \u001B[38;5;241m10\u001B[39m)):\n\u001B[0;32m      5\u001B[0m     chunk \u001B[38;5;241m=\u001B[39m messages[i:i\u001B[38;5;241m+\u001B[39m\u001B[38;5;241m10\u001B[39m]\n\u001B[1;32m----> 6\u001B[0m     responses \u001B[38;5;241m+\u001B[39m\u001B[38;5;241m=\u001B[39m chat\u001B[38;5;241m.\u001B[39mbatch_create_chats(chunk)\n",
      "File \u001B[1;32m~\\OneDrive\\BSc_Data_Science\\Semester_4\\Natural_Language_Processing\\NLP\\hate_speech_detection_pipeline\\chat_GPT.py:32\u001B[0m, in \u001B[0;36mChat.batch_create_chats\u001B[1;34m(self, texts)\u001B[0m\n\u001B[0;32m     30\u001B[0m     response \u001B[38;5;241m=\u001B[39m \u001B[38;5;28mself\u001B[39m\u001B[38;5;241m.\u001B[39mcreate_chat(text)\n\u001B[0;32m     31\u001B[0m     responses\u001B[38;5;241m.\u001B[39mappend(response)\n\u001B[1;32m---> 32\u001B[0m     time\u001B[38;5;241m.\u001B[39msleep(\u001B[38;5;241m1\u001B[39m)  \u001B[38;5;66;03m# Warten, um Ratenbegrenzung zu respektieren\u001B[39;00m\n\u001B[0;32m     33\u001B[0m \u001B[38;5;28;01mreturn\u001B[39;00m responses\n",
      "\u001B[1;31mKeyboardInterrupt\u001B[0m: "
     ]
    }
   ],
   "source": [
    "responses = []\n",
    "chat = Chat()\n",
    "\n",
    "for i in tqdm(range(0, len(messages), 10)):\n",
    "    chunk = messages[i:i+10]\n",
    "    responses += chat.batch_create_chats(chunk)"
   ],
   "metadata": {
    "id": "d02bc3837fe7fe96",
    "ExecuteTime": {
     "end_time": "2024-03-26T15:22:50.274961Z",
     "start_time": "2024-03-26T15:20:16.358668Z"
    }
   },
   "id": "d02bc3837fe7fe96",
   "execution_count": 9
  },
  {
   "cell_type": "markdown",
   "source": [
    "The process has been interrupted by the api after 800 messages."
   ],
   "metadata": {
    "collapsed": false,
    "id": "3cdbfb703dc67ed4"
   },
   "id": "3cdbfb703dc67ed4"
  },
  {
   "cell_type": "markdown",
   "source": [
    "Now save the responses to a local csv file."
   ],
   "metadata": {
    "collapsed": false,
    "id": "79559c5694139e9a"
   },
   "id": "79559c5694139e9a"
  },
  {
   "cell_type": "code",
   "outputs": [],
   "source": [
    "data = data[0:800]\n",
    "data.loc[:, 'gpt_label'] = responses\n",
    "data['gpt_label'] = data['gpt_label'].astype(int)\n",
    "data.to_csv(\"../data/test/800_test_labeled_gpt.csv\", index=False)"
   ],
   "metadata": {
    "id": "d6ede1e0468da09f"
   },
   "id": "d6ede1e0468da09f",
   "execution_count": null
  },
  {
   "cell_type": "markdown",
   "source": [
    "Calculate the F1 Score for the GPT-3 labels"
   ],
   "metadata": {
    "collapsed": false,
    "id": "6ece771d4dc65373"
   },
   "id": "6ece771d4dc65373"
  },
  {
   "cell_type": "code",
   "outputs": [
    {
     "data": {
      "text/plain": "0.8215979843308009"
     },
     "execution_count": 39,
     "metadata": {},
     "output_type": "execute_result"
    }
   ],
   "source": [
    "from sklearn.metrics import f1_score\n",
    "from sklearn.metrics import recall_score\n",
    "\n",
    "\n",
    "def get_f1_score(data):\n",
    "  return f1_score(data['label'], data['gpt_label'], average='weighted')"
   ],
   "metadata": {
    "ExecuteTime": {
     "end_time": "2024-03-21T12:27:47.423966Z",
     "start_time": "2024-03-21T12:27:47.407872Z"
    },
    "id": "a75315276eeda5ec",
    "outputId": "ede1021e-17a6-423e-d23c-d73ce8130c46"
   },
   "id": "a75315276eeda5ec",
   "execution_count": null
  },
  {
   "cell_type": "markdown",
   "source": [
    "The F1Score is 0.82 which is a relatively good score. Now we'll try to outperform this score using a our BERT transformer model."
   ],
   "metadata": {
    "collapsed": false,
    "id": "c1dfa1abbd538e04"
   },
   "id": "c1dfa1abbd538e04"
  },
  {
   "cell_type": "markdown",
   "source": [
    "## Evaluating fine-tuned distilBERT"
   ],
   "metadata": {
    "id": "D7UufwMgRWKD"
   },
   "id": "D7UufwMgRWKD"
  },
  {
   "cell_type": "markdown",
   "source": [
    "Evaluating function"
   ],
   "metadata": {
    "id": "PzV8b6vcRe4W"
   },
   "id": "PzV8b6vcRe4W"
  },
  {
   "cell_type": "code",
   "source": [
    "from sklearn.metrics import recall_score, precision_score, f1_score, accuracy_score\n",
    "from transformers import DistilBertTokenizer, DistilBertForSequenceClassification\n",
    "import torch\n",
    "from torch.utils.data import TensorDataset, DataLoader\n",
    "import os\n",
    "import pandas as pd\n",
    "import numpy as np\n",
    "from tqdm.auto import tqdm\n",
    "\n",
    "def evaluate_model(model_path, test_data_path):\n",
    "    \"\"\"\n",
    "    Evaluates a DistilBERT model for sequence classification using the specified test data path.\n",
    "\n",
    "    Args:\n",
    "    model_path (str): Path to the model checkpoint file.\n",
    "    test_data_path (str): Path to the test data CSV file.\n",
    "    device (str, optional): Device to evaluate the model on. Defaults to 'cpu'.\n",
    "\n",
    "    Returns:\n",
    "    tuple: The macro-averaged accuracy, recall, precision, and F1 score of the model predictions.\n",
    "    \"\"\"\n",
    "    # Load model\n",
    "    model = DistilBertForSequenceClassification.from_pretrained('distilbert-base-uncased', num_labels=2)\n",
    "    device = \"cuda\" if torch.cuda.is_available() else \"cpu\"\n",
    "    model.load_state_dict(torch.load(model_path, map_location=torch.device(device)))\n",
    "    model.to(device)\n",
    "    model.eval()\n",
    "\n",
    "    # Load and prepare test data\n",
    "    df = pd.read_csv(test_data_path)\n",
    "    tokenizer = DistilBertTokenizer.from_pretrained('distilbert-base-uncased')\n",
    "    tokenized_data = tokenizer(list(df['comment_text']), padding=True, truncation=True, return_tensors=\"pt\")\n",
    "    labels = torch.tensor(df['label'].values)\n",
    "    test_dataset = TensorDataset(tokenized_data['input_ids'], tokenized_data['attention_mask'], labels)\n",
    "    test_loader = DataLoader(test_dataset, batch_size=64, shuffle=False)\n",
    "\n",
    "    # Evaluate model\n",
    "    all_preds = []\n",
    "    all_labels = []\n",
    "    with torch.no_grad():\n",
    "        for batch in tqdm(test_loader, desc=\"Evaluating\"):\n",
    "            inputs, masks, labels = batch\n",
    "            inputs, masks, labels = inputs.to(device), masks.to(device), labels.to(device)\n",
    "\n",
    "            outputs = model(inputs, attention_mask=masks)\n",
    "            _, predicted = torch.max(outputs.logits, dim=1)\n",
    "\n",
    "            all_preds.extend(predicted.tolist())\n",
    "            all_labels.extend(labels.tolist())\n",
    "\n",
    "    # Calculate macro-averaged metrics\n",
    "    accuracy = accuracy_score(all_labels, all_preds)\n",
    "    recall = recall_score(all_labels, all_preds, average='macro')\n",
    "    precision = precision_score(all_labels, all_preds, average='macro')\n",
    "    f1 = f1_score(all_labels, all_preds, average='macro')\n",
    "\n",
    "    return accuracy, recall, precision, f1"
   ],
   "metadata": {
    "id": "ujutCibCe-lF",
    "executionInfo": {
     "status": "ok",
     "timestamp": 1711314022530,
     "user_tz": -60,
     "elapsed": 263,
     "user": {
      "displayName": "Linus Stuhlmann",
      "userId": "07279173608860907824"
     }
    }
   },
   "id": "ujutCibCe-lF",
   "execution_count": 11,
   "outputs": []
  },
  {
   "cell_type": "code",
   "source": [
    "import os\n",
    "from google.colab import drive\n",
    "drive.mount('/content/drive')\n",
    "base_path = '/content/drive/My Drive/'\n",
    "test_data_path = os.path.join(base_path, 'NLP/hate_speech_detection_pipeline/data/test/balanced_test.csv')\n",
    "model_path = os.path.join(base_path, 'NLP/hate_speech_detection_pipeline/model/model_distil.pth')\n",
    "\n",
    "# Calculate metrics and output them\n",
    "accuracy, recall, precision, f1 = evaluate_model(model_path, test_data_path)\n",
    "\n",
    "print(\"\\n\")\n",
    "print(f'Accuracy: {accuracy}')\n",
    "print(f'Recall: {recall}')\n",
    "print(f'Precision: {precision}')\n",
    "print(f'F1 Score: {f1}')"
   ],
   "metadata": {
    "colab": {
     "base_uri": "https://localhost:8080/",
     "height": 233,
     "referenced_widgets": [
      "6b5c0d77da5040b0ab5075194c96cdb9",
      "a8fd131b535445f3b1bb871176e3812c",
      "9b441fbc4c294f029fe707236906cb55",
      "70284ce3b94148a2bd799754620938ca",
      "54b41166428a4727b5964d4f226c58d7",
      "1b6640f0c9d44d5fa0431833d7946b41",
      "8af10bf4f2074fd48411d9691c4296b1",
      "eafab92e811c40818683ebfa18c0a076",
      "9bcd98912aee404fa21faa3f713cf4a0",
      "d9cdc3393d1842a58636291216aa3e6e",
      "746c7dcc32bf43eb8fa1c948eb5000a6"
     ]
    },
    "id": "el11XWG141sl",
    "executionInfo": {
     "status": "ok",
     "timestamp": 1711314239032,
     "user_tz": -60,
     "elapsed": 214582,
     "user": {
      "displayName": "Linus Stuhlmann",
      "userId": "07279173608860907824"
     }
    },
    "outputId": "92e9b83f-31ee-4a06-f2bc-3621ecaa6aa0"
   },
   "id": "el11XWG141sl",
   "execution_count": 12,
   "outputs": [
    {
     "output_type": "stream",
     "name": "stdout",
     "text": [
      "Drive already mounted at /content/drive; to attempt to forcibly remount, call drive.mount(\"/content/drive\", force_remount=True).\n"
     ]
    },
    {
     "output_type": "stream",
     "name": "stderr",
     "text": [
      "Some weights of DistilBertForSequenceClassification were not initialized from the model checkpoint at distilbert-base-uncased and are newly initialized: ['classifier.bias', 'classifier.weight', 'pre_classifier.bias', 'pre_classifier.weight']\n",
      "You should probably TRAIN this model on a down-stream task to be able to use it for predictions and inference.\n"
     ]
    },
    {
     "output_type": "display_data",
     "data": {
      "text/plain": [
       "Evaluating:   0%|          | 0/196 [00:00<?, ?it/s]"
      ],
      "application/vnd.jupyter.widget-view+json": {
       "version_major": 2,
       "version_minor": 0,
       "model_id": "6b5c0d77da5040b0ab5075194c96cdb9"
      }
     },
     "metadata": {}
    },
    {
     "output_type": "stream",
     "name": "stdout",
     "text": [
      "\n",
      "\n",
      "Accuracy: 0.9009932713873758\n",
      "Recall: 0.9010059476836778\n",
      "Precision: 0.9112892766330349\n",
      "F1 Score: 0.9003717892644056\n"
     ]
    }
   ]
  }
 ],
 "metadata": {
  "kernelspec": {
   "name": "python3",
   "language": "python",
   "display_name": "Python 3 (ipykernel)"
  },
  "language_info": {
   "codemirror_mode": {
    "name": "ipython",
    "version": 2
   },
   "file_extension": ".py",
   "mimetype": "text/x-python",
   "name": "python",
   "nbconvert_exporter": "python",
   "pygments_lexer": "ipython2",
   "version": "2.7.6"
  },
  "colab": {
   "provenance": [],
   "gpuType": "T4"
  },
  "accelerator": "GPU",
  "widgets": {
   "application/vnd.jupyter.widget-state+json": {
    "6b5c0d77da5040b0ab5075194c96cdb9": {
     "model_module": "@jupyter-widgets/controls",
     "model_name": "HBoxModel",
     "model_module_version": "1.5.0",
     "state": {
      "_dom_classes": [],
      "_model_module": "@jupyter-widgets/controls",
      "_model_module_version": "1.5.0",
      "_model_name": "HBoxModel",
      "_view_count": null,
      "_view_module": "@jupyter-widgets/controls",
      "_view_module_version": "1.5.0",
      "_view_name": "HBoxView",
      "box_style": "",
      "children": [
       "IPY_MODEL_a8fd131b535445f3b1bb871176e3812c",
       "IPY_MODEL_9b441fbc4c294f029fe707236906cb55",
       "IPY_MODEL_70284ce3b94148a2bd799754620938ca"
      ],
      "layout": "IPY_MODEL_54b41166428a4727b5964d4f226c58d7"
     }
    },
    "a8fd131b535445f3b1bb871176e3812c": {
     "model_module": "@jupyter-widgets/controls",
     "model_name": "HTMLModel",
     "model_module_version": "1.5.0",
     "state": {
      "_dom_classes": [],
      "_model_module": "@jupyter-widgets/controls",
      "_model_module_version": "1.5.0",
      "_model_name": "HTMLModel",
      "_view_count": null,
      "_view_module": "@jupyter-widgets/controls",
      "_view_module_version": "1.5.0",
      "_view_name": "HTMLView",
      "description": "",
      "description_tooltip": null,
      "layout": "IPY_MODEL_1b6640f0c9d44d5fa0431833d7946b41",
      "placeholder": "​",
      "style": "IPY_MODEL_8af10bf4f2074fd48411d9691c4296b1",
      "value": "Evaluating: 100%"
     }
    },
    "9b441fbc4c294f029fe707236906cb55": {
     "model_module": "@jupyter-widgets/controls",
     "model_name": "FloatProgressModel",
     "model_module_version": "1.5.0",
     "state": {
      "_dom_classes": [],
      "_model_module": "@jupyter-widgets/controls",
      "_model_module_version": "1.5.0",
      "_model_name": "FloatProgressModel",
      "_view_count": null,
      "_view_module": "@jupyter-widgets/controls",
      "_view_module_version": "1.5.0",
      "_view_name": "ProgressView",
      "bar_style": "success",
      "description": "",
      "description_tooltip": null,
      "layout": "IPY_MODEL_eafab92e811c40818683ebfa18c0a076",
      "max": 196,
      "min": 0,
      "orientation": "horizontal",
      "style": "IPY_MODEL_9bcd98912aee404fa21faa3f713cf4a0",
      "value": 196
     }
    },
    "70284ce3b94148a2bd799754620938ca": {
     "model_module": "@jupyter-widgets/controls",
     "model_name": "HTMLModel",
     "model_module_version": "1.5.0",
     "state": {
      "_dom_classes": [],
      "_model_module": "@jupyter-widgets/controls",
      "_model_module_version": "1.5.0",
      "_model_name": "HTMLModel",
      "_view_count": null,
      "_view_module": "@jupyter-widgets/controls",
      "_view_module_version": "1.5.0",
      "_view_name": "HTMLView",
      "description": "",
      "description_tooltip": null,
      "layout": "IPY_MODEL_d9cdc3393d1842a58636291216aa3e6e",
      "placeholder": "​",
      "style": "IPY_MODEL_746c7dcc32bf43eb8fa1c948eb5000a6",
      "value": " 196/196 [03:10&lt;00:00,  1.01it/s]"
     }
    },
    "54b41166428a4727b5964d4f226c58d7": {
     "model_module": "@jupyter-widgets/base",
     "model_name": "LayoutModel",
     "model_module_version": "1.2.0",
     "state": {
      "_model_module": "@jupyter-widgets/base",
      "_model_module_version": "1.2.0",
      "_model_name": "LayoutModel",
      "_view_count": null,
      "_view_module": "@jupyter-widgets/base",
      "_view_module_version": "1.2.0",
      "_view_name": "LayoutView",
      "align_content": null,
      "align_items": null,
      "align_self": null,
      "border": null,
      "bottom": null,
      "display": null,
      "flex": null,
      "flex_flow": null,
      "grid_area": null,
      "grid_auto_columns": null,
      "grid_auto_flow": null,
      "grid_auto_rows": null,
      "grid_column": null,
      "grid_gap": null,
      "grid_row": null,
      "grid_template_areas": null,
      "grid_template_columns": null,
      "grid_template_rows": null,
      "height": null,
      "justify_content": null,
      "justify_items": null,
      "left": null,
      "margin": null,
      "max_height": null,
      "max_width": null,
      "min_height": null,
      "min_width": null,
      "object_fit": null,
      "object_position": null,
      "order": null,
      "overflow": null,
      "overflow_x": null,
      "overflow_y": null,
      "padding": null,
      "right": null,
      "top": null,
      "visibility": null,
      "width": null
     }
    },
    "1b6640f0c9d44d5fa0431833d7946b41": {
     "model_module": "@jupyter-widgets/base",
     "model_name": "LayoutModel",
     "model_module_version": "1.2.0",
     "state": {
      "_model_module": "@jupyter-widgets/base",
      "_model_module_version": "1.2.0",
      "_model_name": "LayoutModel",
      "_view_count": null,
      "_view_module": "@jupyter-widgets/base",
      "_view_module_version": "1.2.0",
      "_view_name": "LayoutView",
      "align_content": null,
      "align_items": null,
      "align_self": null,
      "border": null,
      "bottom": null,
      "display": null,
      "flex": null,
      "flex_flow": null,
      "grid_area": null,
      "grid_auto_columns": null,
      "grid_auto_flow": null,
      "grid_auto_rows": null,
      "grid_column": null,
      "grid_gap": null,
      "grid_row": null,
      "grid_template_areas": null,
      "grid_template_columns": null,
      "grid_template_rows": null,
      "height": null,
      "justify_content": null,
      "justify_items": null,
      "left": null,
      "margin": null,
      "max_height": null,
      "max_width": null,
      "min_height": null,
      "min_width": null,
      "object_fit": null,
      "object_position": null,
      "order": null,
      "overflow": null,
      "overflow_x": null,
      "overflow_y": null,
      "padding": null,
      "right": null,
      "top": null,
      "visibility": null,
      "width": null
     }
    },
    "8af10bf4f2074fd48411d9691c4296b1": {
     "model_module": "@jupyter-widgets/controls",
     "model_name": "DescriptionStyleModel",
     "model_module_version": "1.5.0",
     "state": {
      "_model_module": "@jupyter-widgets/controls",
      "_model_module_version": "1.5.0",
      "_model_name": "DescriptionStyleModel",
      "_view_count": null,
      "_view_module": "@jupyter-widgets/base",
      "_view_module_version": "1.2.0",
      "_view_name": "StyleView",
      "description_width": ""
     }
    },
    "eafab92e811c40818683ebfa18c0a076": {
     "model_module": "@jupyter-widgets/base",
     "model_name": "LayoutModel",
     "model_module_version": "1.2.0",
     "state": {
      "_model_module": "@jupyter-widgets/base",
      "_model_module_version": "1.2.0",
      "_model_name": "LayoutModel",
      "_view_count": null,
      "_view_module": "@jupyter-widgets/base",
      "_view_module_version": "1.2.0",
      "_view_name": "LayoutView",
      "align_content": null,
      "align_items": null,
      "align_self": null,
      "border": null,
      "bottom": null,
      "display": null,
      "flex": null,
      "flex_flow": null,
      "grid_area": null,
      "grid_auto_columns": null,
      "grid_auto_flow": null,
      "grid_auto_rows": null,
      "grid_column": null,
      "grid_gap": null,
      "grid_row": null,
      "grid_template_areas": null,
      "grid_template_columns": null,
      "grid_template_rows": null,
      "height": null,
      "justify_content": null,
      "justify_items": null,
      "left": null,
      "margin": null,
      "max_height": null,
      "max_width": null,
      "min_height": null,
      "min_width": null,
      "object_fit": null,
      "object_position": null,
      "order": null,
      "overflow": null,
      "overflow_x": null,
      "overflow_y": null,
      "padding": null,
      "right": null,
      "top": null,
      "visibility": null,
      "width": null
     }
    },
    "9bcd98912aee404fa21faa3f713cf4a0": {
     "model_module": "@jupyter-widgets/controls",
     "model_name": "ProgressStyleModel",
     "model_module_version": "1.5.0",
     "state": {
      "_model_module": "@jupyter-widgets/controls",
      "_model_module_version": "1.5.0",
      "_model_name": "ProgressStyleModel",
      "_view_count": null,
      "_view_module": "@jupyter-widgets/base",
      "_view_module_version": "1.2.0",
      "_view_name": "StyleView",
      "bar_color": null,
      "description_width": ""
     }
    },
    "d9cdc3393d1842a58636291216aa3e6e": {
     "model_module": "@jupyter-widgets/base",
     "model_name": "LayoutModel",
     "model_module_version": "1.2.0",
     "state": {
      "_model_module": "@jupyter-widgets/base",
      "_model_module_version": "1.2.0",
      "_model_name": "LayoutModel",
      "_view_count": null,
      "_view_module": "@jupyter-widgets/base",
      "_view_module_version": "1.2.0",
      "_view_name": "LayoutView",
      "align_content": null,
      "align_items": null,
      "align_self": null,
      "border": null,
      "bottom": null,
      "display": null,
      "flex": null,
      "flex_flow": null,
      "grid_area": null,
      "grid_auto_columns": null,
      "grid_auto_flow": null,
      "grid_auto_rows": null,
      "grid_column": null,
      "grid_gap": null,
      "grid_row": null,
      "grid_template_areas": null,
      "grid_template_columns": null,
      "grid_template_rows": null,
      "height": null,
      "justify_content": null,
      "justify_items": null,
      "left": null,
      "margin": null,
      "max_height": null,
      "max_width": null,
      "min_height": null,
      "min_width": null,
      "object_fit": null,
      "object_position": null,
      "order": null,
      "overflow": null,
      "overflow_x": null,
      "overflow_y": null,
      "padding": null,
      "right": null,
      "top": null,
      "visibility": null,
      "width": null
     }
    },
    "746c7dcc32bf43eb8fa1c948eb5000a6": {
     "model_module": "@jupyter-widgets/controls",
     "model_name": "DescriptionStyleModel",
     "model_module_version": "1.5.0",
     "state": {
      "_model_module": "@jupyter-widgets/controls",
      "_model_module_version": "1.5.0",
      "_model_name": "DescriptionStyleModel",
      "_view_count": null,
      "_view_module": "@jupyter-widgets/base",
      "_view_module_version": "1.2.0",
      "_view_name": "StyleView",
      "description_width": ""
     }
    }
   }
  }
 },
 "nbformat": 4,
 "nbformat_minor": 5
}
