{
 "cells": [
  {
   "cell_type": "code",
   "execution_count": 6,
   "id": "initial_id",
   "metadata": {
    "ExecuteTime": {
     "end_time": "2024-03-26T15:19:22.136104Z",
     "start_time": "2024-03-26T15:19:20.522837Z"
    },
    "collapsed": true,
    "executionInfo": {
     "elapsed": 5,
     "status": "aborted",
     "timestamp": 1711313489976,
     "user": {
      "displayName": "Linus Stuhlmann",
      "userId": "07279173608860907824"
     },
     "user_tz": -60
    },
    "id": "initial_id"
   },
   "outputs": [],
   "source": [
    "from chat_GPT import Chat\n",
    "import pandas as pd\n",
    "from tqdm.auto import tqdm"
   ]
  },
  {
   "cell_type": "markdown",
   "id": "a0bfa0e4e32dd1ef",
   "metadata": {
    "collapsed": false,
    "id": "a0bfa0e4e32dd1ef"
   },
   "source": [
    "Importing the test data"
   ]
  },
  {
   "cell_type": "code",
   "execution_count": 18,
   "id": "8b517619",
   "metadata": {},
   "outputs": [
    {
     "data": {
      "text/html": [
       "<div>\n",
       "<style scoped>\n",
       "    .dataframe tbody tr th:only-of-type {\n",
       "        vertical-align: middle;\n",
       "    }\n",
       "\n",
       "    .dataframe tbody tr th {\n",
       "        vertical-align: top;\n",
       "    }\n",
       "\n",
       "    .dataframe thead th {\n",
       "        text-align: right;\n",
       "    }\n",
       "</style>\n",
       "<table border=\"1\" class=\"dataframe\">\n",
       "  <thead>\n",
       "    <tr style=\"text-align: right;\">\n",
       "      <th></th>\n",
       "      <th>id</th>\n",
       "      <th>comment_text</th>\n",
       "      <th>label</th>\n",
       "    </tr>\n",
       "  </thead>\n",
       "  <tbody>\n",
       "    <tr>\n",
       "      <th>0</th>\n",
       "      <td>c808bb3b0fda7b9e</td>\n",
       "      <td>Fair enough  Its not really the freeness or ot...</td>\n",
       "      <td>1</td>\n",
       "    </tr>\n",
       "    <tr>\n",
       "      <th>1</th>\n",
       "      <td>9851e54ff65af090</td>\n",
       "      <td>Why did you remove the section I created about...</td>\n",
       "      <td>1</td>\n",
       "    </tr>\n",
       "    <tr>\n",
       "      <th>2</th>\n",
       "      <td>b700358de5384110</td>\n",
       "      <td>tommy y dont u suk my fat dik u bitch</td>\n",
       "      <td>1</td>\n",
       "    </tr>\n",
       "    <tr>\n",
       "      <th>3</th>\n",
       "      <td>825a091f28fa007d</td>\n",
       "      <td>AND FOR THE LAST FUCKING TIME There is no dis...</td>\n",
       "      <td>1</td>\n",
       "    </tr>\n",
       "    <tr>\n",
       "      <th>4</th>\n",
       "      <td>e82e6daeba6eed92</td>\n",
       "      <td>I hate you guys so much</td>\n",
       "      <td>1</td>\n",
       "    </tr>\n",
       "    <tr>\n",
       "      <th>...</th>\n",
       "      <td>...</td>\n",
       "      <td>...</td>\n",
       "      <td>...</td>\n",
       "    </tr>\n",
       "    <tr>\n",
       "      <th>95</th>\n",
       "      <td>78d6d364412e9c4d</td>\n",
       "      <td>Cant speak for anyone but myself but I will...</td>\n",
       "      <td>1</td>\n",
       "    </tr>\n",
       "    <tr>\n",
       "      <th>96</th>\n",
       "      <td>0164123c08c9fcbd</td>\n",
       "      <td>This I hate Eagles  for since he made that ...</td>\n",
       "      <td>1</td>\n",
       "    </tr>\n",
       "    <tr>\n",
       "      <th>97</th>\n",
       "      <td>1e6e2aa75baef010</td>\n",
       "      <td>What in the HOLY GODS name are you talking abo...</td>\n",
       "      <td>1</td>\n",
       "    </tr>\n",
       "    <tr>\n",
       "      <th>98</th>\n",
       "      <td>8b8aac7f0278c237</td>\n",
       "      <td>November  UTC    Except for the people who a...</td>\n",
       "      <td>0</td>\n",
       "    </tr>\n",
       "    <tr>\n",
       "      <th>99</th>\n",
       "      <td>ba30ac1c94e8a6b1</td>\n",
       "      <td>SSSSSSSSSSSSSSSSSSSHHHHHHHHHHHHHHHHHHHHOOOOOOO...</td>\n",
       "      <td>1</td>\n",
       "    </tr>\n",
       "  </tbody>\n",
       "</table>\n",
       "<p>100 rows × 3 columns</p>\n",
       "</div>"
      ],
      "text/plain": [
       "                  id                                       comment_text  label\n",
       "0   c808bb3b0fda7b9e  Fair enough  Its not really the freeness or ot...      1\n",
       "1   9851e54ff65af090  Why did you remove the section I created about...      1\n",
       "2   b700358de5384110              tommy y dont u suk my fat dik u bitch      1\n",
       "3   825a091f28fa007d   AND FOR THE LAST FUCKING TIME There is no dis...      1\n",
       "4   e82e6daeba6eed92                            I hate you guys so much      1\n",
       "..               ...                                                ...    ...\n",
       "95  78d6d364412e9c4d     Cant speak for anyone but myself but I will...      1\n",
       "96  0164123c08c9fcbd     This I hate Eagles  for since he made that ...      1\n",
       "97  1e6e2aa75baef010  What in the HOLY GODS name are you talking abo...      1\n",
       "98  8b8aac7f0278c237    November  UTC    Except for the people who a...      0\n",
       "99  ba30ac1c94e8a6b1  SSSSSSSSSSSSSSSSSSSHHHHHHHHHHHHHHHHHHHHOOOOOOO...      1\n",
       "\n",
       "[100 rows x 3 columns]"
      ]
     },
     "execution_count": 18,
     "metadata": {},
     "output_type": "execute_result"
    }
   ],
   "source": [
    "data = pd.read_csv(\"~/ownCloud - Michael Saxer (zhaw.ch)@drive.switch.ch/4 Semester/NLP/Projekt2 files/balanced_test.csv\")\n",
    "data.head(100)"
   ]
  },
  {
   "cell_type": "code",
   "execution_count": 7,
   "id": "76fc8e9d254db7f",
   "metadata": {
    "ExecuteTime": {
     "end_time": "2024-03-26T15:19:57.481211Z",
     "start_time": "2024-03-26T15:19:57.412496Z"
    },
    "id": "76fc8e9d254db7f",
    "outputId": "c39cfb3e-a9c1-480d-f7ae-455d934b3767"
   },
   "outputs": [
    {
     "data": {
      "text/html": [
       "<div>\n",
       "<style scoped>\n",
       "    .dataframe tbody tr th:only-of-type {\n",
       "        vertical-align: middle;\n",
       "    }\n",
       "\n",
       "    .dataframe tbody tr th {\n",
       "        vertical-align: top;\n",
       "    }\n",
       "\n",
       "    .dataframe thead th {\n",
       "        text-align: right;\n",
       "    }\n",
       "</style>\n",
       "<table border=\"1\" class=\"dataframe\">\n",
       "  <thead>\n",
       "    <tr style=\"text-align: right;\">\n",
       "      <th></th>\n",
       "      <th>id</th>\n",
       "      <th>comment_text</th>\n",
       "      <th>label</th>\n",
       "    </tr>\n",
       "  </thead>\n",
       "  <tbody>\n",
       "    <tr>\n",
       "      <th>0</th>\n",
       "      <td>c808bb3b0fda7b9e</td>\n",
       "      <td>Fair enough  Its not really the freeness or ot...</td>\n",
       "      <td>1</td>\n",
       "    </tr>\n",
       "    <tr>\n",
       "      <th>1</th>\n",
       "      <td>9851e54ff65af090</td>\n",
       "      <td>Why did you remove the section I created about...</td>\n",
       "      <td>1</td>\n",
       "    </tr>\n",
       "    <tr>\n",
       "      <th>2</th>\n",
       "      <td>b700358de5384110</td>\n",
       "      <td>tommy y dont u suk my fat dik u bitch</td>\n",
       "      <td>1</td>\n",
       "    </tr>\n",
       "    <tr>\n",
       "      <th>3</th>\n",
       "      <td>825a091f28fa007d</td>\n",
       "      <td>AND FOR THE LAST FUCKING TIME There is no dis...</td>\n",
       "      <td>1</td>\n",
       "    </tr>\n",
       "    <tr>\n",
       "      <th>4</th>\n",
       "      <td>e82e6daeba6eed92</td>\n",
       "      <td>I hate you guys so much</td>\n",
       "      <td>1</td>\n",
       "    </tr>\n",
       "    <tr>\n",
       "      <th>5</th>\n",
       "      <td>6d36fa82ca88f214</td>\n",
       "      <td>Hmm I honestly dont know whether the bot will ...</td>\n",
       "      <td>0</td>\n",
       "    </tr>\n",
       "    <tr>\n",
       "      <th>6</th>\n",
       "      <td>35b31097a877cf8b</td>\n",
       "      <td>penis     im da real nigga in dis hood</td>\n",
       "      <td>1</td>\n",
       "    </tr>\n",
       "    <tr>\n",
       "      <th>7</th>\n",
       "      <td>abe1ba4d9c273814</td>\n",
       "      <td>If you deny you are SquealingPig you are a lia...</td>\n",
       "      <td>1</td>\n",
       "    </tr>\n",
       "    <tr>\n",
       "      <th>8</th>\n",
       "      <td>14dabf20b28b2991</td>\n",
       "      <td>REDIRECT TalkEastern Suburbs season</td>\n",
       "      <td>0</td>\n",
       "    </tr>\n",
       "    <tr>\n",
       "      <th>9</th>\n",
       "      <td>c07accf37e49981a</td>\n",
       "      <td>Jeff G has a vagina and likes to get pounded i...</td>\n",
       "      <td>1</td>\n",
       "    </tr>\n",
       "  </tbody>\n",
       "</table>\n",
       "</div>"
      ],
      "text/plain": [
       "                 id                                       comment_text  label\n",
       "0  c808bb3b0fda7b9e  Fair enough  Its not really the freeness or ot...      1\n",
       "1  9851e54ff65af090  Why did you remove the section I created about...      1\n",
       "2  b700358de5384110              tommy y dont u suk my fat dik u bitch      1\n",
       "3  825a091f28fa007d   AND FOR THE LAST FUCKING TIME There is no dis...      1\n",
       "4  e82e6daeba6eed92                            I hate you guys so much      1\n",
       "5  6d36fa82ca88f214  Hmm I honestly dont know whether the bot will ...      0\n",
       "6  35b31097a877cf8b             penis     im da real nigga in dis hood      1\n",
       "7  abe1ba4d9c273814  If you deny you are SquealingPig you are a lia...      1\n",
       "8  14dabf20b28b2991               REDIRECT TalkEastern Suburbs season       0\n",
       "9  c07accf37e49981a  Jeff G has a vagina and likes to get pounded i...      1"
      ]
     },
     "execution_count": 7,
     "metadata": {},
     "output_type": "execute_result"
    }
   ],
   "source": [
    "data = pd.read_csv(\"data/test/balanced_test.csv\")\n",
    "data.head(10)"
   ]
  },
  {
   "cell_type": "markdown",
   "id": "faba8c8445cef54a",
   "metadata": {
    "collapsed": false,
    "id": "faba8c8445cef54a"
   },
   "source": [
    "Creating a subset of the data to test the GPT-3 model"
   ]
  },
  {
   "cell_type": "code",
   "execution_count": 19,
   "id": "c800e9580ed61c51",
   "metadata": {
    "ExecuteTime": {
     "end_time": "2024-03-26T15:20:05.224554Z",
     "start_time": "2024-03-26T15:20:05.218762Z"
    },
    "id": "c800e9580ed61c51"
   },
   "outputs": [],
   "source": [
    "messages = data['comment_text'][0:1000].to_list()"
   ]
  },
  {
   "cell_type": "code",
   "execution_count": 20,
   "id": "91f6a1d5",
   "metadata": {},
   "outputs": [
    {
     "data": {
      "text/html": [
       "<div>\n",
       "<style scoped>\n",
       "    .dataframe tbody tr th:only-of-type {\n",
       "        vertical-align: middle;\n",
       "    }\n",
       "\n",
       "    .dataframe tbody tr th {\n",
       "        vertical-align: top;\n",
       "    }\n",
       "\n",
       "    .dataframe thead th {\n",
       "        text-align: right;\n",
       "    }\n",
       "</style>\n",
       "<table border=\"1\" class=\"dataframe\">\n",
       "  <thead>\n",
       "    <tr style=\"text-align: right;\">\n",
       "      <th></th>\n",
       "      <th>id</th>\n",
       "      <th>comment_text</th>\n",
       "      <th>label</th>\n",
       "    </tr>\n",
       "  </thead>\n",
       "  <tbody>\n",
       "    <tr>\n",
       "      <th>0</th>\n",
       "      <td>c808bb3b0fda7b9e</td>\n",
       "      <td>Fair enough  Its not really the freeness or ot...</td>\n",
       "      <td>1</td>\n",
       "    </tr>\n",
       "    <tr>\n",
       "      <th>1</th>\n",
       "      <td>9851e54ff65af090</td>\n",
       "      <td>Why did you remove the section I created about...</td>\n",
       "      <td>1</td>\n",
       "    </tr>\n",
       "    <tr>\n",
       "      <th>2</th>\n",
       "      <td>b700358de5384110</td>\n",
       "      <td>tommy y dont u suk my fat dik u bitch</td>\n",
       "      <td>1</td>\n",
       "    </tr>\n",
       "    <tr>\n",
       "      <th>3</th>\n",
       "      <td>825a091f28fa007d</td>\n",
       "      <td>AND FOR THE LAST FUCKING TIME There is no dis...</td>\n",
       "      <td>1</td>\n",
       "    </tr>\n",
       "    <tr>\n",
       "      <th>4</th>\n",
       "      <td>e82e6daeba6eed92</td>\n",
       "      <td>I hate you guys so much</td>\n",
       "      <td>1</td>\n",
       "    </tr>\n",
       "    <tr>\n",
       "      <th>...</th>\n",
       "      <td>...</td>\n",
       "      <td>...</td>\n",
       "      <td>...</td>\n",
       "    </tr>\n",
       "    <tr>\n",
       "      <th>996</th>\n",
       "      <td>11a400cebf1b493b</td>\n",
       "      <td>You got sucked in too I lost my temper with th...</td>\n",
       "      <td>1</td>\n",
       "    </tr>\n",
       "    <tr>\n",
       "      <th>997</th>\n",
       "      <td>5887bcfc0e687a16</td>\n",
       "      <td>I also agree and if anyone says that there isn...</td>\n",
       "      <td>0</td>\n",
       "    </tr>\n",
       "    <tr>\n",
       "      <th>998</th>\n",
       "      <td>904d277b2e3e8a0f</td>\n",
       "      <td>FILWISE sock   You oudated scientif racist age...</td>\n",
       "      <td>0</td>\n",
       "    </tr>\n",
       "    <tr>\n",
       "      <th>999</th>\n",
       "      <td>2a3c36a999cd35b8</td>\n",
       "      <td>Why are you such a Bitch     Why are you such...</td>\n",
       "      <td>1</td>\n",
       "    </tr>\n",
       "    <tr>\n",
       "      <th>1000</th>\n",
       "      <td>c240c93778c2b43c</td>\n",
       "      <td>Wikipedia sucks donkey balls and everyone kno...</td>\n",
       "      <td>1</td>\n",
       "    </tr>\n",
       "  </tbody>\n",
       "</table>\n",
       "<p>1001 rows × 3 columns</p>\n",
       "</div>"
      ],
      "text/plain": [
       "                    id                                       comment_text  \\\n",
       "0     c808bb3b0fda7b9e  Fair enough  Its not really the freeness or ot...   \n",
       "1     9851e54ff65af090  Why did you remove the section I created about...   \n",
       "2     b700358de5384110              tommy y dont u suk my fat dik u bitch   \n",
       "3     825a091f28fa007d   AND FOR THE LAST FUCKING TIME There is no dis...   \n",
       "4     e82e6daeba6eed92                            I hate you guys so much   \n",
       "...                ...                                                ...   \n",
       "996   11a400cebf1b493b  You got sucked in too I lost my temper with th...   \n",
       "997   5887bcfc0e687a16  I also agree and if anyone says that there isn...   \n",
       "998   904d277b2e3e8a0f  FILWISE sock   You oudated scientif racist age...   \n",
       "999   2a3c36a999cd35b8   Why are you such a Bitch     Why are you such...   \n",
       "1000  c240c93778c2b43c   Wikipedia sucks donkey balls and everyone kno...   \n",
       "\n",
       "      label  \n",
       "0         1  \n",
       "1         1  \n",
       "2         1  \n",
       "3         1  \n",
       "4         1  \n",
       "...     ...  \n",
       "996       1  \n",
       "997       0  \n",
       "998       0  \n",
       "999       1  \n",
       "1000      1  \n",
       "\n",
       "[1001 rows x 3 columns]"
      ]
     },
     "execution_count": 20,
     "metadata": {},
     "output_type": "execute_result"
    }
   ],
   "source": [
    "data.head(1001)"
   ]
  },
  {
   "cell_type": "markdown",
   "id": "20fdc964c260d568",
   "metadata": {
    "collapsed": false,
    "id": "20fdc964c260d568"
   },
   "source": [
    "## Classify the messages using GPT-3.5 turbo\n",
    "\n",
    "Importing the chat_GPT class and creating a chat object to classify the messages. We used chunks of 10 messages to reduce the number tokens per request to the API."
   ]
  },
  {
   "cell_type": "markdown",
   "id": "2b083372",
   "metadata": {},
   "source": [
    "# LINUX ONLY!!!"
   ]
  },
  {
   "cell_type": "code",
   "execution_count": 15,
   "id": "9234bc36",
   "metadata": {},
   "outputs": [
    {
     "data": {
      "text/plain": [
       "True"
      ]
     },
     "execution_count": 15,
     "metadata": {},
     "output_type": "execute_result"
    }
   ],
   "source": [
    "#linux doesent allow access to enviroment variable without explicitly loading it ()\n",
    "from dotenv import load_dotenv\n",
    "import os\n",
    "\n",
    "# Load environment variables from .env file\n",
    "load_dotenv()"
   ]
  },
  {
   "cell_type": "code",
   "execution_count": 21,
   "id": "d02bc3837fe7fe96",
   "metadata": {
    "ExecuteTime": {
     "end_time": "2024-03-26T15:22:50.274961Z",
     "start_time": "2024-03-26T15:20:16.358668Z"
    },
    "id": "d02bc3837fe7fe96"
   },
   "outputs": [
    {
     "data": {
      "application/vnd.jupyter.widget-view+json": {
       "model_id": "fcdcbb4fb16d41b0b0d314b86e65e139",
       "version_major": 2,
       "version_minor": 0
      },
      "text/plain": [
       "  0%|          | 0/100 [00:00<?, ?it/s]"
      ]
     },
     "metadata": {},
     "output_type": "display_data"
    },
    {
     "name": "stdout",
     "output_type": "stream",
     "text": [
      "An error occurred: Error code: 400 - {'error': {'message': \"Sorry! We've encountered an issue with repetitive patterns in your prompt. Please try again with a different prompt.\", 'type': 'invalid_request_error', 'param': 'prompt', 'code': 'invalid_prompt'}}\n"
     ]
    }
   ],
   "source": [
    "responses = []\n",
    "chat = Chat()\n",
    "\n",
    "for i in tqdm(range(0, len(messages), 10)):\n",
    "    chunk = messages[i:i+10]\n",
    "    responses += chat.batch_create_chats(chunk)"
   ]
  },
  {
   "cell_type": "markdown",
   "id": "79559c5694139e9a",
   "metadata": {
    "collapsed": false,
    "id": "79559c5694139e9a"
   },
   "source": [
    "Now save the responses to a local csv file."
   ]
  },
  {
   "cell_type": "markdown",
   "id": "3cdbfb703dc67ed4",
   "metadata": {
    "collapsed": false,
    "id": "3cdbfb703dc67ed4"
   },
   "source": [
    "The process has been interrupted by the api after 800 messages."
   ]
  },
  {
   "cell_type": "code",
   "execution_count": 22,
   "id": "72de190a",
   "metadata": {},
   "outputs": [
    {
     "name": "stdout",
     "output_type": "stream",
     "text": [
      "fuck\n",
      "fuck\n",
      "fuck\n",
      "fuck\n",
      "fuck\n"
     ]
    }
   ],
   "source": [
    "#responses\n",
    "len(responses)\n",
    "\n",
    "for entry in responses:\n",
    "    if entry == '-1':\n",
    "        print(\"fuck\")"
   ]
  },
  {
   "cell_type": "code",
   "execution_count": 33,
   "id": "d6ede1e0468da09f",
   "metadata": {
    "id": "d6ede1e0468da09f"
   },
   "outputs": [],
   "source": [
    "data = data[0:1000]\n",
    "data.loc[:, 'gpt_label_zeroshot'] = responses\n",
    "data['gpt_label_zeroshot'] = data['gpt_label_zeroshot'].astype(int)\n",
    "#data.to_csv(\"../data/test/800_test_labeled_gpt.csv\", index=False)\n",
    "data = data[data['gpt_label_zeroshot'] >= 0]\n",
    "data.to_csv('~/ownCloud - Michael Saxer (zhaw.ch)@drive.switch.ch/4 Semester/NLP/Projekt2 files/sampled_test_data__labeled_result_zeroshot.csv', index=False)\n"
   ]
  },
  {
   "cell_type": "code",
   "execution_count": 16,
   "id": "4ba55b0c",
   "metadata": {},
   "outputs": [
    {
     "ename": "NameError",
     "evalue": "name 'data_sample' is not defined",
     "output_type": "error",
     "traceback": [
      "\u001b[0;31m---------------------------------------------------------------------------\u001b[0m",
      "\u001b[0;31mNameError\u001b[0m                                 Traceback (most recent call last)",
      "Cell \u001b[0;32mIn[16], line 1\u001b[0m\n\u001b[0;32m----> 1\u001b[0m \u001b[43mdata_sample\u001b[49m\n",
      "\u001b[0;31mNameError\u001b[0m: name 'data_sample' is not defined"
     ]
    }
   ],
   "source": []
  },
  {
   "cell_type": "markdown",
   "id": "6ece771d4dc65373",
   "metadata": {
    "collapsed": false,
    "id": "6ece771d4dc65373"
   },
   "source": [
    "Calculate the F1 Score for the GPT-3 labels"
   ]
  },
  {
   "cell_type": "code",
   "execution_count": 38,
   "id": "a75315276eeda5ec",
   "metadata": {
    "ExecuteTime": {
     "end_time": "2024-03-21T12:27:47.423966Z",
     "start_time": "2024-03-21T12:27:47.407872Z"
    },
    "id": "a75315276eeda5ec",
    "outputId": "ede1021e-17a6-423e-d23c-d73ce8130c46"
   },
   "outputs": [],
   "source": [
    "from sklearn.metrics import f1_score\n",
    "from sklearn.metrics import recall_score\n",
    "\n",
    "\n",
    "def get_f1_score(data):\n",
    "  return f1_score(data['label'], data['gpt_label_zeroshot'], average='macro')"
   ]
  },
  {
   "cell_type": "code",
   "execution_count": 39,
   "id": "a1e80b9b",
   "metadata": {},
   "outputs": [
    {
     "data": {
      "text/plain": [
       "0.5613416234161127"
      ]
     },
     "execution_count": 39,
     "metadata": {},
     "output_type": "execute_result"
    }
   ],
   "source": [
    "get_f1_score(data)\n"
   ]
  },
  {
   "cell_type": "markdown",
   "id": "c1dfa1abbd538e04",
   "metadata": {
    "collapsed": false,
    "id": "c1dfa1abbd538e04"
   },
   "source": [
    "The F1Score is 0.82 which is a relatively good score. Now we'll try to outperform this score using a our BERT transformer model."
   ]
  },
  {
   "cell_type": "markdown",
   "id": "D7UufwMgRWKD",
   "metadata": {
    "id": "D7UufwMgRWKD"
   },
   "source": [
    "## Evaluating fine-tuned distilBERT"
   ]
  },
  {
   "cell_type": "markdown",
   "id": "PzV8b6vcRe4W",
   "metadata": {
    "id": "PzV8b6vcRe4W"
   },
   "source": [
    "Evaluating function"
   ]
  },
  {
   "cell_type": "code",
   "execution_count": 11,
   "id": "ujutCibCe-lF",
   "metadata": {
    "executionInfo": {
     "elapsed": 263,
     "status": "ok",
     "timestamp": 1711314022530,
     "user": {
      "displayName": "Linus Stuhlmann",
      "userId": "07279173608860907824"
     },
     "user_tz": -60
    },
    "id": "ujutCibCe-lF"
   },
   "outputs": [],
   "source": [
    "from sklearn.metrics import recall_score, precision_score, f1_score, accuracy_score\n",
    "from transformers import DistilBertTokenizer, DistilBertForSequenceClassification\n",
    "import torch\n",
    "from torch.utils.data import TensorDataset, DataLoader\n",
    "import os\n",
    "import pandas as pd\n",
    "import numpy as np\n",
    "from tqdm.auto import tqdm\n",
    "\n",
    "def evaluate_model(model_path, test_data_path):\n",
    "    \"\"\"\n",
    "    Evaluates a DistilBERT model for sequence classification using the specified test data path.\n",
    "\n",
    "    Args:\n",
    "    model_path (str): Path to the model checkpoint file.\n",
    "    test_data_path (str): Path to the test data CSV file.\n",
    "    device (str, optional): Device to evaluate the model on. Defaults to 'cpu'.\n",
    "\n",
    "    Returns:\n",
    "    tuple: The macro-averaged accuracy, recall, precision, and F1 score of the model predictions.\n",
    "    \"\"\"\n",
    "    # Load model\n",
    "    model = DistilBertForSequenceClassification.from_pretrained('distilbert-base-uncased', num_labels=2)\n",
    "    device = \"cuda\" if torch.cuda.is_available() else \"cpu\"\n",
    "    model.load_state_dict(torch.load(model_path, map_location=torch.device(device)))\n",
    "    model.to(device)\n",
    "    model.eval()\n",
    "\n",
    "    # Load and prepare test data\n",
    "    df = pd.read_csv(test_data_path)\n",
    "    tokenizer = DistilBertTokenizer.from_pretrained('distilbert-base-uncased')\n",
    "    tokenized_data = tokenizer(list(df['comment_text']), padding=True, truncation=True, return_tensors=\"pt\")\n",
    "    labels = torch.tensor(df['label'].values)\n",
    "    test_dataset = TensorDataset(tokenized_data['input_ids'], tokenized_data['attention_mask'], labels)\n",
    "    test_loader = DataLoader(test_dataset, batch_size=64, shuffle=False)\n",
    "\n",
    "    # Evaluate model\n",
    "    all_preds = []\n",
    "    all_labels = []\n",
    "    with torch.no_grad():\n",
    "        for batch in tqdm(test_loader, desc=\"Evaluating\"):\n",
    "            inputs, masks, labels = batch\n",
    "            inputs, masks, labels = inputs.to(device), masks.to(device), labels.to(device)\n",
    "\n",
    "            outputs = model(inputs, attention_mask=masks)\n",
    "            _, predicted = torch.max(outputs.logits, dim=1)\n",
    "\n",
    "            all_preds.extend(predicted.tolist())\n",
    "            all_labels.extend(labels.tolist())\n",
    "\n",
    "    # Calculate macro-averaged metrics\n",
    "    accuracy = accuracy_score(all_labels, all_preds)\n",
    "    recall = recall_score(all_labels, all_preds, average='macro')\n",
    "    precision = precision_score(all_labels, all_preds, average='macro')\n",
    "    f1 = f1_score(all_labels, all_preds, average='macro')\n",
    "\n",
    "    return accuracy, recall, precision, f1"
   ]
  },
  {
   "cell_type": "code",
   "execution_count": 12,
   "id": "el11XWG141sl",
   "metadata": {
    "colab": {
     "base_uri": "https://localhost:8080/",
     "height": 233,
     "referenced_widgets": [
      "6b5c0d77da5040b0ab5075194c96cdb9",
      "a8fd131b535445f3b1bb871176e3812c",
      "9b441fbc4c294f029fe707236906cb55",
      "70284ce3b94148a2bd799754620938ca",
      "54b41166428a4727b5964d4f226c58d7",
      "1b6640f0c9d44d5fa0431833d7946b41",
      "8af10bf4f2074fd48411d9691c4296b1",
      "eafab92e811c40818683ebfa18c0a076",
      "9bcd98912aee404fa21faa3f713cf4a0",
      "d9cdc3393d1842a58636291216aa3e6e",
      "746c7dcc32bf43eb8fa1c948eb5000a6"
     ]
    },
    "executionInfo": {
     "elapsed": 214582,
     "status": "ok",
     "timestamp": 1711314239032,
     "user": {
      "displayName": "Linus Stuhlmann",
      "userId": "07279173608860907824"
     },
     "user_tz": -60
    },
    "id": "el11XWG141sl",
    "outputId": "92e9b83f-31ee-4a06-f2bc-3621ecaa6aa0"
   },
   "outputs": [
    {
     "name": "stdout",
     "output_type": "stream",
     "text": [
      "Drive already mounted at /content/drive; to attempt to forcibly remount, call drive.mount(\"/content/drive\", force_remount=True).\n"
     ]
    },
    {
     "name": "stderr",
     "output_type": "stream",
     "text": [
      "Some weights of DistilBertForSequenceClassification were not initialized from the model checkpoint at distilbert-base-uncased and are newly initialized: ['classifier.bias', 'classifier.weight', 'pre_classifier.bias', 'pre_classifier.weight']\n",
      "You should probably TRAIN this model on a down-stream task to be able to use it for predictions and inference.\n"
     ]
    },
    {
     "data": {
      "application/vnd.jupyter.widget-view+json": {
       "model_id": "6b5c0d77da5040b0ab5075194c96cdb9",
       "version_major": 2,
       "version_minor": 0
      },
      "text/plain": [
       "Evaluating:   0%|          | 0/196 [00:00<?, ?it/s]"
      ]
     },
     "metadata": {},
     "output_type": "display_data"
    },
    {
     "name": "stdout",
     "output_type": "stream",
     "text": [
      "\n",
      "\n",
      "Accuracy: 0.9009932713873758\n",
      "Recall: 0.9010059476836778\n",
      "Precision: 0.9112892766330349\n",
      "F1 Score: 0.9003717892644056\n"
     ]
    }
   ],
   "source": [
    "import os\n",
    "from google.colab import drive\n",
    "drive.mount('/content/drive')\n",
    "base_path = '/content/drive/My Drive/'\n",
    "test_data_path = os.path.join(base_path, 'NLP/hate_speech_detection_pipeline/data/test/balanced_test.csv')\n",
    "model_path = os.path.join(base_path, 'NLP/hate_speech_detection_pipeline/model/model_distil.pth')\n",
    "\n",
    "# Calculate metrics and output them\n",
    "accuracy, recall, precision, f1 = evaluate_model(model_path, test_data_path)\n",
    "\n",
    "print(\"\\n\")\n",
    "print(f'Accuracy: {accuracy}')\n",
    "print(f'Recall: {recall}')\n",
    "print(f'Precision: {precision}')\n",
    "print(f'F1 Score: {f1}')"
   ]
  }
 ],
 "metadata": {
  "accelerator": "GPU",
  "colab": {
   "gpuType": "T4",
   "provenance": []
  },
  "kernelspec": {
   "display_name": "Python 3 (ipykernel)",
   "language": "python",
   "name": "python3"
  },
  "language_info": {
   "codemirror_mode": {
    "name": "ipython",
    "version": 3
   },
   "file_extension": ".py",
   "mimetype": "text/x-python",
   "name": "python",
   "nbconvert_exporter": "python",
   "pygments_lexer": "ipython3",
   "version": "3.9.16"
  },
  "widgets": {
   "application/vnd.jupyter.widget-state+json": {
    "1b6640f0c9d44d5fa0431833d7946b41": {
     "model_module": "@jupyter-widgets/base",
     "model_module_version": "1.2.0",
     "model_name": "LayoutModel",
     "state": {
      "_model_module": "@jupyter-widgets/base",
      "_model_module_version": "1.2.0",
      "_model_name": "LayoutModel",
      "_view_count": null,
      "_view_module": "@jupyter-widgets/base",
      "_view_module_version": "1.2.0",
      "_view_name": "LayoutView",
      "align_content": null,
      "align_items": null,
      "align_self": null,
      "border": null,
      "bottom": null,
      "display": null,
      "flex": null,
      "flex_flow": null,
      "grid_area": null,
      "grid_auto_columns": null,
      "grid_auto_flow": null,
      "grid_auto_rows": null,
      "grid_column": null,
      "grid_gap": null,
      "grid_row": null,
      "grid_template_areas": null,
      "grid_template_columns": null,
      "grid_template_rows": null,
      "height": null,
      "justify_content": null,
      "justify_items": null,
      "left": null,
      "margin": null,
      "max_height": null,
      "max_width": null,
      "min_height": null,
      "min_width": null,
      "object_fit": null,
      "object_position": null,
      "order": null,
      "overflow": null,
      "overflow_x": null,
      "overflow_y": null,
      "padding": null,
      "right": null,
      "top": null,
      "visibility": null,
      "width": null
     }
    },
    "54b41166428a4727b5964d4f226c58d7": {
     "model_module": "@jupyter-widgets/base",
     "model_module_version": "1.2.0",
     "model_name": "LayoutModel",
     "state": {
      "_model_module": "@jupyter-widgets/base",
      "_model_module_version": "1.2.0",
      "_model_name": "LayoutModel",
      "_view_count": null,
      "_view_module": "@jupyter-widgets/base",
      "_view_module_version": "1.2.0",
      "_view_name": "LayoutView",
      "align_content": null,
      "align_items": null,
      "align_self": null,
      "border": null,
      "bottom": null,
      "display": null,
      "flex": null,
      "flex_flow": null,
      "grid_area": null,
      "grid_auto_columns": null,
      "grid_auto_flow": null,
      "grid_auto_rows": null,
      "grid_column": null,
      "grid_gap": null,
      "grid_row": null,
      "grid_template_areas": null,
      "grid_template_columns": null,
      "grid_template_rows": null,
      "height": null,
      "justify_content": null,
      "justify_items": null,
      "left": null,
      "margin": null,
      "max_height": null,
      "max_width": null,
      "min_height": null,
      "min_width": null,
      "object_fit": null,
      "object_position": null,
      "order": null,
      "overflow": null,
      "overflow_x": null,
      "overflow_y": null,
      "padding": null,
      "right": null,
      "top": null,
      "visibility": null,
      "width": null
     }
    },
    "6b5c0d77da5040b0ab5075194c96cdb9": {
     "model_module": "@jupyter-widgets/controls",
     "model_module_version": "1.5.0",
     "model_name": "HBoxModel",
     "state": {
      "_dom_classes": [],
      "_model_module": "@jupyter-widgets/controls",
      "_model_module_version": "1.5.0",
      "_model_name": "HBoxModel",
      "_view_count": null,
      "_view_module": "@jupyter-widgets/controls",
      "_view_module_version": "1.5.0",
      "_view_name": "HBoxView",
      "box_style": "",
      "children": [
       "IPY_MODEL_a8fd131b535445f3b1bb871176e3812c",
       "IPY_MODEL_9b441fbc4c294f029fe707236906cb55",
       "IPY_MODEL_70284ce3b94148a2bd799754620938ca"
      ],
      "layout": "IPY_MODEL_54b41166428a4727b5964d4f226c58d7"
     }
    },
    "70284ce3b94148a2bd799754620938ca": {
     "model_module": "@jupyter-widgets/controls",
     "model_module_version": "1.5.0",
     "model_name": "HTMLModel",
     "state": {
      "_dom_classes": [],
      "_model_module": "@jupyter-widgets/controls",
      "_model_module_version": "1.5.0",
      "_model_name": "HTMLModel",
      "_view_count": null,
      "_view_module": "@jupyter-widgets/controls",
      "_view_module_version": "1.5.0",
      "_view_name": "HTMLView",
      "description": "",
      "description_tooltip": null,
      "layout": "IPY_MODEL_d9cdc3393d1842a58636291216aa3e6e",
      "placeholder": "​",
      "style": "IPY_MODEL_746c7dcc32bf43eb8fa1c948eb5000a6",
      "value": " 196/196 [03:10&lt;00:00,  1.01it/s]"
     }
    },
    "746c7dcc32bf43eb8fa1c948eb5000a6": {
     "model_module": "@jupyter-widgets/controls",
     "model_module_version": "1.5.0",
     "model_name": "DescriptionStyleModel",
     "state": {
      "_model_module": "@jupyter-widgets/controls",
      "_model_module_version": "1.5.0",
      "_model_name": "DescriptionStyleModel",
      "_view_count": null,
      "_view_module": "@jupyter-widgets/base",
      "_view_module_version": "1.2.0",
      "_view_name": "StyleView",
      "description_width": ""
     }
    },
    "8af10bf4f2074fd48411d9691c4296b1": {
     "model_module": "@jupyter-widgets/controls",
     "model_module_version": "1.5.0",
     "model_name": "DescriptionStyleModel",
     "state": {
      "_model_module": "@jupyter-widgets/controls",
      "_model_module_version": "1.5.0",
      "_model_name": "DescriptionStyleModel",
      "_view_count": null,
      "_view_module": "@jupyter-widgets/base",
      "_view_module_version": "1.2.0",
      "_view_name": "StyleView",
      "description_width": ""
     }
    },
    "9b441fbc4c294f029fe707236906cb55": {
     "model_module": "@jupyter-widgets/controls",
     "model_module_version": "1.5.0",
     "model_name": "FloatProgressModel",
     "state": {
      "_dom_classes": [],
      "_model_module": "@jupyter-widgets/controls",
      "_model_module_version": "1.5.0",
      "_model_name": "FloatProgressModel",
      "_view_count": null,
      "_view_module": "@jupyter-widgets/controls",
      "_view_module_version": "1.5.0",
      "_view_name": "ProgressView",
      "bar_style": "success",
      "description": "",
      "description_tooltip": null,
      "layout": "IPY_MODEL_eafab92e811c40818683ebfa18c0a076",
      "max": 196,
      "min": 0,
      "orientation": "horizontal",
      "style": "IPY_MODEL_9bcd98912aee404fa21faa3f713cf4a0",
      "value": 196
     }
    },
    "9bcd98912aee404fa21faa3f713cf4a0": {
     "model_module": "@jupyter-widgets/controls",
     "model_module_version": "1.5.0",
     "model_name": "ProgressStyleModel",
     "state": {
      "_model_module": "@jupyter-widgets/controls",
      "_model_module_version": "1.5.0",
      "_model_name": "ProgressStyleModel",
      "_view_count": null,
      "_view_module": "@jupyter-widgets/base",
      "_view_module_version": "1.2.0",
      "_view_name": "StyleView",
      "bar_color": null,
      "description_width": ""
     }
    },
    "a8fd131b535445f3b1bb871176e3812c": {
     "model_module": "@jupyter-widgets/controls",
     "model_module_version": "1.5.0",
     "model_name": "HTMLModel",
     "state": {
      "_dom_classes": [],
      "_model_module": "@jupyter-widgets/controls",
      "_model_module_version": "1.5.0",
      "_model_name": "HTMLModel",
      "_view_count": null,
      "_view_module": "@jupyter-widgets/controls",
      "_view_module_version": "1.5.0",
      "_view_name": "HTMLView",
      "description": "",
      "description_tooltip": null,
      "layout": "IPY_MODEL_1b6640f0c9d44d5fa0431833d7946b41",
      "placeholder": "​",
      "style": "IPY_MODEL_8af10bf4f2074fd48411d9691c4296b1",
      "value": "Evaluating: 100%"
     }
    },
    "d9cdc3393d1842a58636291216aa3e6e": {
     "model_module": "@jupyter-widgets/base",
     "model_module_version": "1.2.0",
     "model_name": "LayoutModel",
     "state": {
      "_model_module": "@jupyter-widgets/base",
      "_model_module_version": "1.2.0",
      "_model_name": "LayoutModel",
      "_view_count": null,
      "_view_module": "@jupyter-widgets/base",
      "_view_module_version": "1.2.0",
      "_view_name": "LayoutView",
      "align_content": null,
      "align_items": null,
      "align_self": null,
      "border": null,
      "bottom": null,
      "display": null,
      "flex": null,
      "flex_flow": null,
      "grid_area": null,
      "grid_auto_columns": null,
      "grid_auto_flow": null,
      "grid_auto_rows": null,
      "grid_column": null,
      "grid_gap": null,
      "grid_row": null,
      "grid_template_areas": null,
      "grid_template_columns": null,
      "grid_template_rows": null,
      "height": null,
      "justify_content": null,
      "justify_items": null,
      "left": null,
      "margin": null,
      "max_height": null,
      "max_width": null,
      "min_height": null,
      "min_width": null,
      "object_fit": null,
      "object_position": null,
      "order": null,
      "overflow": null,
      "overflow_x": null,
      "overflow_y": null,
      "padding": null,
      "right": null,
      "top": null,
      "visibility": null,
      "width": null
     }
    },
    "eafab92e811c40818683ebfa18c0a076": {
     "model_module": "@jupyter-widgets/base",
     "model_module_version": "1.2.0",
     "model_name": "LayoutModel",
     "state": {
      "_model_module": "@jupyter-widgets/base",
      "_model_module_version": "1.2.0",
      "_model_name": "LayoutModel",
      "_view_count": null,
      "_view_module": "@jupyter-widgets/base",
      "_view_module_version": "1.2.0",
      "_view_name": "LayoutView",
      "align_content": null,
      "align_items": null,
      "align_self": null,
      "border": null,
      "bottom": null,
      "display": null,
      "flex": null,
      "flex_flow": null,
      "grid_area": null,
      "grid_auto_columns": null,
      "grid_auto_flow": null,
      "grid_auto_rows": null,
      "grid_column": null,
      "grid_gap": null,
      "grid_row": null,
      "grid_template_areas": null,
      "grid_template_columns": null,
      "grid_template_rows": null,
      "height": null,
      "justify_content": null,
      "justify_items": null,
      "left": null,
      "margin": null,
      "max_height": null,
      "max_width": null,
      "min_height": null,
      "min_width": null,
      "object_fit": null,
      "object_position": null,
      "order": null,
      "overflow": null,
      "overflow_x": null,
      "overflow_y": null,
      "padding": null,
      "right": null,
      "top": null,
      "visibility": null,
      "width": null
     }
    }
   }
  }
 },
 "nbformat": 4,
 "nbformat_minor": 5
}
